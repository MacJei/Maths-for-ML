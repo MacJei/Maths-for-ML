{
 "cells": [
  {
   "cell_type": "markdown",
   "metadata": {},
   "source": [
    "# Математика для машинного обучения\n",
    "## Домашнее задание №5\n",
    "\n",
    "_Автор задания: Илья Щуров_\n",
    "\n",
    "Подготовлено для программы «[Практический анализ данных и машинное обучение](https://cs.hse.ru/dpo/bigml)» (ФКН НИУ ВШЭ)."
   ]
  },
  {
   "cell_type": "markdown",
   "metadata": {},
   "source": [
    "Задание выполнила: *Хужина Вария*"
   ]
  },
  {
   "cell_type": "markdown",
   "metadata": {},
   "source": [
    "### О задании\n",
    "\n",
    "В задании встречаются задачи трёх видов. Обычные задачи — чаще всего, простые задачи на определения. Их нужно сделать, если понятия, обсуждавшиеся на лекции, кажутся вам новыми или прочно забытыми. Задачи со звёздочкой — на доказательства. Их можно пропустить, если вы проходите этот материал впервые, но они помогут разобраться в нём глубже. Они также не являются сложными при наличии некоторой математической подготовки. Наконец, задачи с двумя звёздочками — для тех, кто имеет математическое образование.\n",
    "\n",
    "Вы можете выбрать, какой тип задач вы хотите решать — скорее всего, если вы можете решить задачи со звёздочкой, то задачи без звёздочек будут для вас слишком простыми (но может быть и нет — в любом случае, просмотрите их и поймите, являются ли они для вас совсем устными; если нет — лучше сделайте их)."
   ]
  },
  {
   "cell_type": "markdown",
   "metadata": {},
   "source": [
    "### Расстояние от точки до гиперплоскости\n",
    "Расстояние от точки $P=(p_1, p_2, \\ldots, p_n)\\in \\mathbb R^n$ до гиперплоскости $H$, заданной уравнением $a_1 x_1 + a_2 x_2 + \\ldots + a_n x_n + b = 0$, можно вычислить по формуле:\n",
    "\n",
    "$$d(P, H) = \\frac{|a_1 p_1 + a_2 p_2 + \\ldots + a_n p_n + b|}{\\sqrt{a_1^2+a_2^2 + \\ldots + a_n^2}}$$"
   ]
  },
  {
   "cell_type": "markdown",
   "metadata": {},
   "source": [
    "### Задача 1\n",
    "Найти расстояние от точки $(2, 3)$ до прямой, проходящей через точку $(5, 7)$ параллельно вектору $(3, 4)$.\n",
    "\n",
    "**Подсказка.** Сначала вам нужно задать уравнение этой прямой. Прямая на плоскости является гиперплоскостью, поэтому для вычисления расстояния можно использовать приведенную выше формулу."
   ]
  },
  {
   "cell_type": "markdown",
   "metadata": {},
   "source": [
    "**Решение**\n",
    "Прямая, проходящая через точку $(5,7)$ параллельно вектору $(3,4)$ задается следующим уравнением в параметрическом виде:    \n",
    "$x_1 = 5 + 3t$     \n",
    "$x_2 = 7 + 4t$    \n",
    "Выразим $t$ из второго уравнения и подсавим в первое:     \n",
    "$t = \\frac{x_2 - 7}{4}$    \n",
    "$x_1 = 5 + 3 \\frac{x_2 - 7}{4}$    \n",
    "$4 x_1 = 20 + 3 x_2 - 21$    \n",
    "$4 x_1 -3 x_2 + 1 = 0$    \n",
    "Тогда:   \n",
    "$d = \\frac{8 - 9 + 1}{\\sqrt{16 + 9}} = 0$    \n",
    "То есть точка $(2, 3)$  лежит на прямой."
   ]
  },
  {
   "cell_type": "markdown",
   "metadata": {},
   "source": [
    "### Задача 2 (*)\n",
    "Рассмотрим $n$-мерное пространство. Найти расстояние от начала координат до гиперплоскости, проходящей через точки $(1, 0, \\ldots, 0, 0)$, $(0, 1, \\ldots, 0, 0)$,..., $(0, 0, \\ldots, 1, 0)$, $(0, 0, \\ldots, 0, 1)$ (единица на одном месте, остальные компоненты нулевые).\n",
    "\n",
    "**Подсказка.** Сначала нужно найти уравнение гиперплоскости. Пусть искомое уравнение имеет вид $a_1 x_1 + a_2 x_2 + \\ldots a_n x_n + b = 0$. Подставляя каждую из точек, получим систему уравнений на $a_1,a_2,\\ldots, a_n, b$. Достаточно найти какое-нибудь решение этой системы (например, можно положить $b=1$ и найти все $a_i$, $i=1,\\ldots, n$)."
   ]
  },
  {
   "cell_type": "markdown",
   "metadata": {},
   "source": [
    "**Решение**     \n",
    "Пусть уравнение гиперплоскости имеет вид $a_1 x_1 + a_2 x_2 + \\ldots a_n x_n + b = 0$.    \n",
    "Тогда поставляя точки $(1, 0, \\ldots, 0, 0)$, $(0, 1, \\ldots, 0, 0)$,..., $(0, 0, \\ldots, 1, 0)$, $(0, 0, \\ldots, 0, 1)$, получим:    \n",
    "$a_1 + b = 0$    \n",
    "$a_2 + b = 0$    \n",
    "$\\dots$    \n",
    "$a_n + b = 0$  \n",
    "Очевидно, что $a_i = -b$ для всех $i=1,2,\\dots,n$    \n",
    "Таким образом уравнение гиперплоскости:    \n",
    "$b(x_1 + x_2 + \\dots + x_n) - b = 0$    \n",
    "$b \\neq 0$   \n",
    "$x_1 + x_2 + \\dots + x_n - 1 = 0$   \n",
    "Расстояние от начала координат до этой гиперплоскости:    \n",
    "$d = \\frac{|0 - 1|}{\\sqrt{n}} = \\frac{1}{\\sqrt{n}}$ "
   ]
  },
  {
   "cell_type": "markdown",
   "metadata": {},
   "source": [
    "### Ядро и образ\n",
    "\n",
    "Пусть матрица $A$ имеет $m$ строк и $n$ столбцов. Тогда она задаёт отображение из $\\mathbb R^n$ в $\\mathbb R^m$.\n",
    "\n",
    "**Определение.** *Образом (image)* отображения, заданного матрицей $A$, называется множество векторов $u \\in \\mathbb R^m$, обладающих следующим свойством: найдётся такой вектор $v \\in \\mathbb R^n$, что $Av = u$. Иными словами, образ — это множество тех векторов, в которые мы можем «попасть», действуя отображением с матрицей $A$.\n",
    "\n",
    "**Определение.** *Ядром (nullspace)* отображения, заданного матрицей $A$, называется множество векторов $v \\in \\mathbb R^n$, отображаемых матрицей $A$ в нулевой вектор:\n",
    "\n",
    "$$\\ker A = \\{v \\in \\mathbb R^n\\mid Av = 0\\}.$$\n",
    "\n",
    "**Теорема.** Образ и ядро являются линейными подпространствами. Сумма их размерностей равна $n$.\n",
    "\n",
    "**Определение.** *Рангом* матрицы $A$ называется размерность образа соответствующего отображения.\n",
    "\n",
    "**Утверждение.** Ранг матрицы можно вычислить как максимальное число линейно независимых столбцов или максимальное число линейно независимых строк (эти два числа всегда совпадают)."
   ]
  },
  {
   "cell_type": "markdown",
   "metadata": {},
   "source": [
    "### Задача 3\n",
    "Найти ядро отображения, заданного матрицей. Найти ранг этой матрицы.\n",
    "\n",
    "$$\n",
    "\\begin{pmatrix}\n",
    "1 & 2 & 3 \\\\\n",
    "4 & 5 & 6 \\\\\n",
    "1 & 0 & -1\n",
    "\\end{pmatrix}\n",
    "$$\n",
    "\n",
    "Вы можете попробовать выполнить это задание вручную, а затем проверить, что нашли ранг правильно, с помощью `numpy.linalg.matrix_rank`."
   ]
  },
  {
   "cell_type": "markdown",
   "metadata": {},
   "source": [
    "**Решение**    \n",
    "1. Определим ядро отображения матрицы A:    \n",
    "$$\n",
    "A = \\begin{pmatrix}\n",
    "1 & 2 & 3 \\\\\n",
    "4 & 5 & 6 \\\\\n",
    "1 & 0 & -1\n",
    "\\end{pmatrix} \\\\ \n",
    "Av = 0\n",
    "$$    \n",
    "$$\n",
    "\\begin{pmatrix}\n",
    "1 & 2 & 3 \\\\\n",
    "4 & 5 & 6 \\\\\n",
    "1 & 0 & -1\n",
    "\\end{pmatrix} \\begin{pmatrix}\n",
    "v_1 \\\\\n",
    "v_2 \\\\\n",
    "v_3\n",
    "\\end{pmatrix} = 0\n",
    "$$    \n",
    "$$\n",
    "\\begin{equation*}\n",
    "\\begin{cases}\n",
    "v_1  + 2v_2 +3v_3 = 0 \\\\\n",
    "4v_1 + 5v_2 + 6v_3 = 0 \\\\\n",
    "v_1 - v_3 = 0\n",
    "\\end{cases}\n",
    "\\end{equation*}  \n",
    "$$   \n",
    "Из последнего видно, что $v_1 = v_3$, то есть система задает \"избыточное\" уравнение, отсюда:    \n",
    "$$\\begin{equation*}\n",
    "\\begin{cases}\n",
    "2v_1  + v_2 = 0 \\\\\n",
    "2v_1  + v_2 = 0 \\\\\n",
    "v_1 = v_3\n",
    "\\end{cases}\n",
    "\\end{equation*} $$   \n",
    "Отсюда видно, что первое и второе уравнение в системе одинаковые, следовательно, система имеет бесконечное число решений вида:  \n",
    "$(v_1, -2v_1, v_1)$  \n",
    "$ker\\ A = \n",
    "\\{\n",
    "\\begin{pmatrix}\n",
    "\\lambda \\\\\n",
    "-2\\lambda \\\\\n",
    "\\lambda \\\\\n",
    "\\end{pmatrix}\n",
    " | \\ \\lambda \\in \\mathbb R\\}\n",
    "$\n",
    "\n",
    "2. Найдем ранг матрицы A:   \n",
    "Можно заметить, что третий столбец матрицы A можно получить если второй столбец умножить на два и вычисть из него первый:   \n",
    "$$-1\\begin{pmatrix}\n",
    "1 \\\\\n",
    "4 \\\\\n",
    "1 \\\\\n",
    "\\end{pmatrix}\n",
    "+ 2\n",
    "\\begin{pmatrix}\n",
    "2\\\\\n",
    "5\\\\\n",
    "0\\\\\n",
    "\\end{pmatrix}\n",
    "=\n",
    "\\begin{pmatrix}\n",
    "3\\\\\n",
    "6\\\\\n",
    "-1\\\\\n",
    "\\end{pmatrix}\n",
    "$$    \n",
    "Отсюда следует, что количество линейно независимых столбцов равно двум, следовательно $rk \\ A = 2$"
   ]
  },
  {
   "cell_type": "code",
   "execution_count": 1,
   "metadata": {},
   "outputs": [
    {
     "name": "stdout",
     "output_type": "stream",
     "text": [
      "[[ 1  2  3]\n",
      " [ 4  5  6]\n",
      " [ 1  0 -1]]\n"
     ]
    }
   ],
   "source": [
    "import numpy as np\n",
    "A = np.array([[1, 2, 3],[4, 5, 6],[1, 0, -1]])\n",
    "print(A)"
   ]
  },
  {
   "cell_type": "code",
   "execution_count": 2,
   "metadata": {},
   "outputs": [
    {
     "data": {
      "text/plain": [
       "2"
      ]
     },
     "execution_count": 2,
     "metadata": {},
     "output_type": "execute_result"
    }
   ],
   "source": [
    "np.linalg.matrix_rank(A)"
   ]
  },
  {
   "cell_type": "markdown",
   "metadata": {},
   "source": [
    "### Задача 4 (*)\n",
    "*Внешним произведением* векторов $u=(u_1,\\ldots, u_n)\\in \\mathbb R^n$ и $v=(v_1,\\ldots, v_n)$ называется матрица $uv^T$:\n",
    "\n",
    "$$\n",
    "\\begin{pmatrix}\n",
    "u_1 \\\\\n",
    "u_2 \\\\\n",
    "\\vdots \\\\\n",
    "u_n\n",
    "\\end{pmatrix}\n",
    "\\begin{pmatrix}\n",
    "v_1 & v_2 & \\cdots & v_n\n",
    "\\end{pmatrix}\n",
    "$$\n",
    "\n",
    "Найти её ранг."
   ]
  },
  {
   "cell_type": "markdown",
   "metadata": {},
   "source": [
    "**Решение**   \n",
    "$$\n",
    "\\begin{pmatrix}\n",
    "u_1 \\\\\n",
    "u_2 \\\\\n",
    "\\vdots \\\\\n",
    "u_n\n",
    "\\end{pmatrix}\n",
    "\\begin{pmatrix}\n",
    "v_1 & v_2 & \\cdots & v_n\n",
    "\\end{pmatrix} = \n",
    "\\begin{pmatrix}\n",
    "u_1 v_1 & u_1 v_2&\\dots & u_1 v_n \\\\\n",
    "u_2 v_1 & u_2 v_2& \\dots & u_2 v_n\\\\\n",
    "\\vdots& \\vdots & \\dots & \\vdots\\\\\n",
    "u_n v_1& u_n v_2& \\dots  & u_n v_n\n",
    "\\end{pmatrix}\n",
    "$$    \n",
    "Эта матрица,у которой все строки и столбцы линейно *зависимы*\n",
    "$rk \\ uv^T = 1$\n"
   ]
  },
  {
   "cell_type": "markdown",
   "metadata": {},
   "source": [
    "**Определение.** *Обратной матрицей* к квадратной матрице $A$ называется такая матрица $A^{-1}$, что $A^{-1}A=AA^{-1}=E$, где $E$ — единичная матрица (такая матрица, у которой на диагонали стоят единицы, а все остальные элементы нулевые). Обратная матрица соответствует обратному отображению: если взять вектор $y=Ax$, являющийся образом вектора $x$ под действием матрицы $A$, и подействовать на него матрицей $A^{-1}$, то получится снова вектор $x$. Матрица является обратимой (невырожденной) тогда и только тогда, когда её ранг максимален (равен числу строк или столбцов).\n",
    "\n",
    "### Задача 5\n",
    "Найти без использования компьютера обратную матрицу к матрице $A$. (Понять, как действует матрица $A$ на плоскость, придумать обратное действие и найти его матрицу.)\n",
    "\n",
    "$$\n",
    "A=\\begin{pmatrix}\n",
    "0 & -2 \\\\\n",
    "2 & 0\n",
    "\\end{pmatrix}\n",
    "$$"
   ]
  },
  {
   "cell_type": "markdown",
   "metadata": {},
   "source": [
    "**Решение**     \n",
    "Определим образ матрицы A:   \n",
    "$Ax = y, \\ \\ x = (x_1, x_2),\\ \\ y = (y_1, y_2)$    \n",
    "$-2x_2 = y_1$     \n",
    "$-2x_1 = y_2$   \n",
    "Эта матрица осуществляет поворот против базиса против часовой стрелки и растягивает вдоль новых направлений в два раза.   \n",
    "Следовательно обратная матрица должна осуществлять поворот по часовой стрелки и сжимать вдоль новых направлений в два раза.  \n",
    "Матрица поворота по часовой стрелке:   \n",
    "$$\n",
    "\\begin{pmatrix}\n",
    "0 & 1 \\\\\n",
    "-1 & 0\n",
    "\\end{pmatrix}\n",
    "$$\n",
    "Значит обратная матрица:   \n",
    "$$\n",
    "\\frac{1}{2}\\begin{pmatrix}\n",
    "0 & 1 \\\\\n",
    "-1 & 0\n",
    "\\end{pmatrix} = \n",
    "\\begin{pmatrix}\n",
    "0 & 0.5 \\\\\n",
    "-0.5 & 0\n",
    "\\end{pmatrix}\n",
    "$$\n",
    "\n",
    "Проверим:    \n",
    "$$\\begin{pmatrix}\n",
    "0 & -2 \\\\\n",
    "2 & 0\n",
    "\\end{pmatrix}\n",
    "\\begin{pmatrix}\n",
    "0 & 0.5 \\\\\n",
    "-0.5 & 0\n",
    "\\end{pmatrix} = \n",
    "\\begin{pmatrix}\n",
    "0 & 0.5 \\\\\n",
    "-0.5 & 0\n",
    "\\end{pmatrix} = \n",
    "\\begin{pmatrix}\n",
    "1 & 0 \\\\\n",
    "0 & 1\n",
    "\\end{pmatrix}\n",
    "$$"
   ]
  },
  {
   "cell_type": "code",
   "execution_count": 3,
   "metadata": {},
   "outputs": [
    {
     "data": {
      "text/plain": [
       "array([[ 0. ,  0.5],\n",
       "       [-0.5, -0. ]])"
      ]
     },
     "execution_count": 3,
     "metadata": {},
     "output_type": "execute_result"
    }
   ],
   "source": [
    "np.linalg.inv(np.array([[0, -2],[2, 0]]))"
   ]
  },
  {
   "cell_type": "markdown",
   "metadata": {},
   "source": [
    "### Задача 6 (*)\n",
    "Вася решает систему линейных уравнений следующего вида:\n",
    "\n",
    "$$\n",
    "\\left\\{\n",
    "\\begin{align}\n",
    "x_1 + 2 x_2 & = b_1 \\\\\n",
    "x_2 + 2 x_3 & = b_2 \\\\\n",
    "\\vdots \\\\\n",
    "x_{n-1} + 2 x_{n} & = b_{n-1} \\\\\n",
    "x_n & = b_n\n",
    "\\end{align}\n",
    "\\right.\n",
    "$$\n",
    "\n",
    "1. Записать эту систему в матричной форме. Выписать матрицу $A$ системы.\n",
    "2. Для $n=100$ найти с помощью компьютера обратную матрицу к матрице $A$. \n",
    "3. Вася хотел решить эту систему с правой частью $b_1 = b_2 = \\ldots = b_n = 0$. Но когда Вася отвернулся, Петя подменил правую часть, добавив к каждому $b_k$ маленькое число $10^{-10}$, $k=1, \\ldots, n$. Вася не заметил подвоха и стал решать систему с такой правой частью. Какова норма разности между правильным ответом и ответом, который в результате получил Вася?\n",
    "\n",
    "**Подсказка.** Для генерирования матрицы $A$ можно использовать функцию `np.diag`, для вычисления обратной матрицы — `scipy.linalg.inv`, для нахождения нормы вектора — `scipy.linalg.norm`."
   ]
  },
  {
   "cell_type": "markdown",
   "metadata": {},
   "source": [
    "**Решение**    \n",
    "1. Система в матричной форме:   \n",
    "$$\\begin{pmatrix}\n",
    "1 & 2 & 0 & \\dots & 0 & 0 \\\\\n",
    "0 & 1 & 2 & \\dots  & 0 & 0\\\\\n",
    "\\dots & \\dots & \\dots & \\dots & \\dots & \\dots\\\\\n",
    "0 & 0 & 0 & \\dots  & 1 & 2\\\\\n",
    "0 & 0 & 0 & \\dots  & 0 & 1\n",
    "\\end{pmatrix}\n",
    "\\begin{pmatrix}\n",
    "x_1\\\\\n",
    "x_2\\\\\n",
    "\\dots\\\\\n",
    "x_{n-1}\\\\\n",
    "x_n\n",
    "\\end{pmatrix}=\n",
    "\\begin{pmatrix}\n",
    "b_1\\\\\n",
    "b_2\\\\\n",
    "\\dots\\\\\n",
    "b_{n-1}\\\\\n",
    "b_n\n",
    "\\end{pmatrix}$$   \n",
    "Иначе:\n",
    "$Ax = b$, где    \n",
    "$$A_{n \\times n} = \\begin{pmatrix}\n",
    "1 & 2 & 0 & \\dots & 0 & 0 \\\\\n",
    "0 & 1 & 2 & \\dots  & 0 & 0\\\\\n",
    "\\dots & \\dots & \\dots & \\dots & \\dots & \\dots\\\\\n",
    "0 & 0 & 0 & \\dots  & 1 & 2\\\\\n",
    "0 & 0 & 0 & \\dots  & 0 & 1\n",
    "\\end{pmatrix}$$\n",
    "    \n",
    "Решение системы:   \n",
    "$$x = A^{-1}b$$  \n",
    "Для однородной системы:  $Ax' = 0$ из последнего уравнения видно, что решение однородной СЛАУ только тривиальное, то есть  ${x'}_i = 0, \\ i = 1, \\dots, n$.   \n",
    "Тогда норма разности двух решений:   \n",
    "$||x - x'|| = ||x||$"
   ]
  },
  {
   "cell_type": "code",
   "execution_count": 4,
   "metadata": {
    "collapsed": true
   },
   "outputs": [],
   "source": [
    "import scipy\n",
    "def my_solve(n, b):\n",
    "    A = np.diag([1] * n) + np.diag([2] * (n-1), 1)\n",
    "    iA = np.linalg.inv(A)\n",
    "    x = iA @ b\n",
    "    err =  np.linalg.norm(x)\n",
    "    return A, x, err"
   ]
  },
  {
   "cell_type": "code",
   "execution_count": 5,
   "metadata": {},
   "outputs": [
    {
     "name": "stdout",
     "output_type": "stream",
     "text": [
      "[-4.2255020e+19  2.1127510e+19 -1.0563755e+19  5.2818775e+18]\n",
      "Error = 4.87918943520106e+19\n"
     ]
    }
   ],
   "source": [
    "n = 100\n",
    "b = np.array([10**(-10)] * n)\n",
    "A, x, err = my_solve(n, b)\n",
    "print(x[:4])\n",
    "print('Error =', err)"
   ]
  },
  {
   "cell_type": "markdown",
   "metadata": {},
   "source": [
    "### Задача 7\n",
    "С помощью `numpy` найти собственные векторы и собственные значения следующей симметричной матрицы. Убедиться в том, что собственные векторы, соответствующие разным собственным значениям, ортогональны.\n",
    "\n",
    "$$\n",
    "B = \\begin{pmatrix}\n",
    "1 & 2 & 3 \\\\\n",
    "2 & 5 & 1 \\\\\n",
    "3 & 1 & 8 \\\\\n",
    "\\end{pmatrix}\n",
    "$$"
   ]
  },
  {
   "cell_type": "markdown",
   "metadata": {},
   "source": [
    "**Решение**    "
   ]
  },
  {
   "cell_type": "code",
   "execution_count": 6,
   "metadata": {},
   "outputs": [
    {
     "data": {
      "text/plain": [
       "(array([-0.55268521,  9.70576802,  4.84691719]),\n",
       " array([[-0.9161354 ,  0.37547036, -0.14042059],\n",
       "        [ 0.27795927,  0.34258708, -0.89742562],\n",
       "        [ 0.28885044,  0.86119458,  0.41822162]]))"
      ]
     },
     "execution_count": 6,
     "metadata": {},
     "output_type": "execute_result"
    }
   ],
   "source": [
    "B = np.array([[1, 2, 3],[2, 5, 1],[3, 1, 8]])\n",
    "eigval, eigvect  = np.linalg.eig(B)\n",
    "eigval, eigvect"
   ]
  },
  {
   "cell_type": "code",
   "execution_count": 7,
   "metadata": {},
   "outputs": [
    {
     "data": {
      "text/plain": [
       "0.0"
      ]
     },
     "execution_count": 7,
     "metadata": {},
     "output_type": "execute_result"
    }
   ],
   "source": [
    "round(eigvect[:, 0] @ eigvect[:, 1], 5)"
   ]
  },
  {
   "cell_type": "code",
   "execution_count": 8,
   "metadata": {},
   "outputs": [
    {
     "data": {
      "text/plain": [
       "-0.0"
      ]
     },
     "execution_count": 8,
     "metadata": {},
     "output_type": "execute_result"
    }
   ],
   "source": [
    "round(eigvect[:, 0] @ eigvect[:, 2], 5)"
   ]
  },
  {
   "cell_type": "code",
   "execution_count": 9,
   "metadata": {},
   "outputs": [
    {
     "data": {
      "text/plain": [
       "0.0"
      ]
     },
     "execution_count": 9,
     "metadata": {},
     "output_type": "execute_result"
    }
   ],
   "source": [
    "round(eigvect[:, 1] @ eigvect[:, 2], 5)"
   ]
  },
  {
   "cell_type": "markdown",
   "metadata": {},
   "source": [
    "### Задача 8 (*)\n",
    "Написать код, который для заданной матрицы 2×2 $A$ рисует образ единичной окружности под действием оператора, заданного этой матрицей, и два собственных вектора матрицы $AA^T$."
   ]
  },
  {
   "cell_type": "markdown",
   "metadata": {
    "collapsed": true
   },
   "source": [
    "**Решение**"
   ]
  },
  {
   "cell_type": "code",
   "execution_count": 10,
   "metadata": {
    "collapsed": true
   },
   "outputs": [],
   "source": [
    "from scipy.linalg import eig \n",
    "import matplotlib.pyplot as plt\n",
    "%matplotlib inline"
   ]
  },
  {
   "cell_type": "code",
   "execution_count": 11,
   "metadata": {},
   "outputs": [
    {
     "data": {
      "image/png": "[encoded data removed]",
      "text/plain": [
       "<matplotlib.figure.Figure at 0x7f9302a6dd68>"
      ]
     },
     "metadata": {},
     "output_type": "display_data"
    }
   ],
   "source": [
    "def my_circle(angle, R=1):\n",
    "    x = R*np.cos(angle)\n",
    "    y = R*np.sin(angle)\n",
    "    return x,y\n",
    "\n",
    "A = np.array([[4, -2],[2, 2]])\n",
    "angle = np.linspace(0, 2*np.pi, 100)\n",
    "x, y = my_circle(angle)\n",
    "fig = plt.figure(figsize=(4,4))\n",
    "plt.xlim(-5, 5)\n",
    "plt.ylim(-5, 5)\n",
    "plt.grid(True)\n",
    "vec = A @ np.array([x, y])\n",
    "plt.plot(x, y, color='black')\n",
    "plt.plot(vec[0], vec[1], color='red');"
   ]
  },
  {
   "cell_type": "markdown",
   "metadata": {},
   "source": [
    "### Задача 9 (**)\n",
    "Доказать, что оси эллипса из предыдущей задачи всегда будут совпадать с собственными векторами матрицы $AA^T$."
   ]
  },
  {
   "cell_type": "code",
   "execution_count": 12,
   "metadata": {
    "collapsed": true
   },
   "outputs": [],
   "source": [
    "# (впишите решение сюда)"
   ]
  }
 ],
 "metadata": {
  "kernelspec": {
   "display_name": "Python 3",
   "language": "python",
   "name": "python3"
  },
  "language_info": {
   "codemirror_mode": {
    "name": "ipython",
    "version": 3
   },
   "file_extension": ".py",
   "mimetype": "text/x-python",
   "name": "python",
   "nbconvert_exporter": "python",
   "pygments_lexer": "ipython3",
   "version": "3.6.3"
  },
  "toc": {
   "toc_cell": false,
   "toc_number_sections": false,
   "toc_section_display": "none",
   "toc_threshold": 6,
   "toc_window_display": false
  }
 },
 "nbformat": 4,
 "nbformat_minor": 1
}
