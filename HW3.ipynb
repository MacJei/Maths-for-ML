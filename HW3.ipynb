{
 "cells": [
  {
   "cell_type": "markdown",
   "metadata": {},
   "source": [
    "# Математика для машинного обучения\n",
    "## Домашнее задание №3\n",
    "\n",
    "_Автор задания: Илья Щуров_\n",
    "\n",
    "Подготовлено для программы «[Практический анализ данных и машинное обучение](https://cs.hse.ru/dpo/bigml)» (ФКН НИУ ВШЭ)."
   ]
  },
  {
   "cell_type": "markdown",
   "metadata": {},
   "source": [
    "Задание выполнила: *Хужина Вария*"
   ]
  },
  {
   "cell_type": "markdown",
   "metadata": {},
   "source": [
    "### О задании\n",
    "\n",
    "В задании встречаются задачи трёх видов. Обычные задачи — чаще всего, простые задачи на определения. Их нужно сделать, если понятия, обсуждавшиеся на лекции, кажутся вам новыми или прочно забытыми. Задачи со звёздочкой — на доказательства. Их можно пропустить, если вы проходите этот материал впервые, но они помогут разобраться в нём глубже. Они также не являются сложными при наличии некоторой математической подготовки. Наконец, задачи с двумя звёздочками — для тех, кто имеет математическое образование и/или хочет поглубже разобраться с компьютерными инструментами.\n",
    "\n",
    "Вы можете выбрать, какой тип задач вы хотите решать — скорее всего, если вы можете решить задачи со звёздочкой, то задачи без звёздочек будут для вас слишком простыми (но может быть и нет — в любом случае, просмотрите их и поймите, являются ли они для вас совсем устными; если нет — лучше сделайте их).\n",
    "\n",
    "Все задачи выбранного типа необходимо решить к следующему занятию."
   ]
  },
  {
   "cell_type": "markdown",
   "metadata": {},
   "source": [
    "**Определение.** *$n$-мерным векторным (или линейным) пространством* $\\mathbb R^n$ называется множество упорядоченных наборов из $n$ вещественных чисел $\\{(x_1, x_2, \\ldots, x_n)\\mid x_1, \\ldots, x_n \\in \\mathbb R^n\\}$, на котором определены следующие операции:\n",
    "\n",
    "1. Сложение двух векторов: если $u=(u_1, u_2, \\ldots, u_n)$ и $v=(v_1, v_2, \\ldots, v_n)$, то $u+v=(u_1+v_1, u_2+v_2, \\ldots, u_n + v_n)$.\n",
    "\n",
    "2. Умножения вектора на число: если $u=(u_1, u_2, \\ldots, u_n)$ и $\\lambda \\in \\mathbb R$ (то есть $\\lambda$ — это просто число), то $\\lambda u = (\\lambda u_1, \\lambda u_2, \\ldots, \\lambda u_n)$."
   ]
  },
  {
   "cell_type": "markdown",
   "metadata": {},
   "source": [
    "**Определение.** *Линейной комбинацией* векторов $u^1, u^2, \\ldots, u^k$ называется любое выражение вида $\\lambda_1 u^1 + \\lambda_2 u^2 + \\cdots + \\lambda_k u^k$, где $\\lambda_1, \\lambda_2,\\ldots, \\lambda_k$ — какие-то числа. Линейная комбинация называется *нетривиальной*, если хотя бы одно $\\lambda_j$ не равняется нулю."
   ]
  },
  {
   "cell_type": "markdown",
   "metadata": {},
   "source": [
    "Мы также будем использовать «школьное» понятие вектора на декартовой плоскости или в трёхмерном пространстве. С этой точки зрения\n",
    "вектор — это отрезок, на котором задано направление. При этом мы считаем, что\n",
    "вектор не меняется, если его параллельно перенести в другую точку, сохраняя\n",
    "направление и длину.\n",
    "\n",
    "Если начало вектора совпадает с\n",
    "началом координат, то координаты (или компоненты) вектора совпадают с координатами его конца. Компоненты произвольного вектора можно вычислить как\n",
    "покомпонентную разность между координатами конца и координатами начала. Если\n",
    "$A=(a_1, a_2)$ и $B=(b_1, b_2)$, то $\\overrightarrow{AB}=(b_1-a_1, b_2-a_2)$.\n",
    "\n",
    "Таким образом множество векторов на двумерной плоскости отождествляется с множеством пар чисел $\\mathbb R^2$. Аналогично множество векторов в трёхмерном пространстве отождествляется с множеством троек чисел $\\mathbb R^3$."
   ]
  },
  {
   "cell_type": "markdown",
   "metadata": {},
   "source": [
    "### Задача 1"
   ]
  },
  {
   "cell_type": "markdown",
   "metadata": {},
   "source": [
    "Рассмотрим картинку."
   ]
  },
  {
   "cell_type": "code",
   "execution_count": 1,
   "metadata": {},
   "outputs": [
    {
     "data": {
      "image/png": "[encoded data removed]",
      "text/plain": [
       "<matplotlib.figure.Figure at 0x7fe9ec11ec50>"
      ]
     },
     "metadata": {},
     "output_type": "display_data"
    }
   ],
   "source": [
    "import matplotlib.pyplot as plt\n",
    "import numpy as np\n",
    "\n",
    "%matplotlib inline\n",
    "fig = plt.figure(figsize=(6,6))\n",
    "fig.gca().grid(True)\n",
    "plt.xlim(-4, 4)\n",
    "plt.ylim(-4, 4)\n",
    "plt.xlabel(\"$x_1$\", fontsize=18)\n",
    "plt.ylabel(\"$x_2$\", fontsize=18)\n",
    "\n",
    "points = [('O', 0, 0), ('A', 2, 3), ('B', -2, 1), ('C', 1, 1), ('D', -1, 2), ('E', 0, 1), ('F', 1, 0), ('H', 4, -1)]\n",
    "\n",
    "plt.plot([p[1] for p in points], [p[2] for p in points], 'o', color='black')\n",
    "for p in points:\n",
    "    plt.text(p[1] + 0.1, p[2] + 0.1, \"$%s$\" % p[0], fontsize = 18)"
   ]
  },
  {
   "cell_type": "markdown",
   "metadata": {},
   "source": [
    "1. Найти координаты вектора $\\overrightarrow{AE}$.\n",
    "1. Найти сумму $\\overrightarrow{OC}+\\overrightarrow{CD}$.\n",
    "1. Найти сумму $\\overrightarrow{OC}+\\overrightarrow{OB}$.\n",
    "2. Выразить вектор $\\overrightarrow{OC}$ в виде линейной комбинации векторов $\\overrightarrow{OE}$ и $\\overrightarrow{OF}$.\n",
    "3. Выразить вектор $\\overrightarrow{OB}$ в виде линейной комбинации векторов $\\overrightarrow{OC}$ и $\\overrightarrow{FE}$.\n",
    "4. Выразить вектор $\\overrightarrow{FH}$ в виде линейной комбинации векторов $\\overrightarrow{OC}$ и $\\overrightarrow{FE}$."
   ]
  },
  {
   "cell_type": "markdown",
   "metadata": {},
   "source": [
    "#### Решение \n",
    " 1. $\\overrightarrow{AE} = (-2; -2)$    \n",
    " 2. $\\overrightarrow{OC}+\\overrightarrow{CD} = \\overrightarrow{OD} = (-1; 2)$    \n",
    " 3. $\\overrightarrow{OC}+\\overrightarrow{OB} = \\overrightarrow{OD} = (-1; 2)$    \n",
    " 4. $\\overrightarrow{OC} = \\overrightarrow{OE} + \\overrightarrow{OF}$    \n",
    " 5. $\\overrightarrow{OB} =  -\\frac{1}{2} \\overrightarrow{OC} + \\frac{3}{2}\\overrightarrow{FE}$    \n",
    " 6. $\\overrightarrow{FH} = \\overrightarrow{OC} - 2\\overrightarrow{FE}$."
   ]
  },
  {
   "cell_type": "markdown",
   "metadata": {},
   "source": [
    "**Утверждение.** Прямая, проходящая через точку $P$ в направлении вектора $u$ задаётся как множество точек $Q$, таких, что\n",
    "\n",
    "$\\overrightarrow{OQ} = \\overrightarrow{OP} + tu$, где параметр $t$ пробегает множество всех вещественных чисел."
   ]
  },
  {
   "cell_type": "markdown",
   "metadata": {},
   "source": [
    "### Задача 2\n",
    "Для той же картинки:\n",
    "1. Записать в параметрическом виде уравнение прямой, проходящей через точки $B$ и $A$.\n",
    "2. Записать в параметрическом виде уравнение прямой, проходящей через точки $D$ и $E$.\n",
    "3. Найти координаты точки пересечения этих прямых, используя результаты двух предыдущих пунктов (записать систему уравнений, решить её и найти координаты точки пересечения)."
   ]
  },
  {
   "cell_type": "markdown",
   "metadata": {},
   "source": [
    "#### Решение \n",
    "1. Прямая, проходящая через точки $B$ и $A$:  $\\overrightarrow{OB} + t\\overrightarrow{BA} = (-2 + 4t; 1 +2t), t \\in \\mathbb R$    \n",
    "\n",
    "2. Прямая, проходящая через точки $D$ и $E$:  $\\overrightarrow{OE} + t\\overrightarrow{ED} = (-t; 1 + t), t \\in \\mathbb R$   \n",
    "\n",
    "3. Координата точки пересечения прямых:    \n",
    "$-2 + 4t_1 = -t_2$    \n",
    "$1 + 2t_1 = 1 + t_2$  \n",
    "\n",
    "Решая систему находим, что $t_1 = 1/3$ и $t_2 = 2/3$, тогда подствляя получаем $(-2/3; 5/3)$\n"
   ]
  },
  {
   "cell_type": "markdown",
   "metadata": {},
   "source": [
    "**Определение.** *Скалярным произведением* векторов $u=(u_1, \\ldots, u_n)$ и $v=(v_1, \\ldots, v_n)$ будем называть число (скаляр), обозначаемое $\\langle u, v\\rangle$ и равное $u_1 v_1 + u_2 v_2 + \\ldots + u_n v_n$. Скалярное произведение также можно определить как $|u|\\cdot |v|\\cdot \\cos \\alpha$, где $\\alpha$ — угол между векторами, $|u|$ и $|v|$ — их длины.\n",
    "\n",
    "**Замечание.** Вообще говоря, скалярное произведение не всегда определяется координатной формулой, указанной выше: она справедлива только если система координат прямоугольная (вернее, базис ортонормирован). Но мы в основном будем работать именно с такими системами координат.\n",
    "\n",
    "**Следствие из определения.** Векторы $u$ и $v$ перпендикулярны тогда и только тогда, когда их скалярное произведение равно нулю. (Нулевой вектор перпендикулярен чему угодно.)"
   ]
  },
  {
   "cell_type": "markdown",
   "metadata": {},
   "source": [
    "### Задача 3 (*)\n",
    "Пользуясь координатным определением, доказать следующие свойства скалярного произведения:\n",
    "\n",
    "Для любых трёх векторов $u, v, w$ и любого скаляра $\\lambda$:\n",
    "\n",
    "1. $\\langle u + v, w\\rangle = \\langle u, w\\rangle + \\langle v, w \\rangle$;\n",
    "2. $\\langle u, v + w\\rangle = \\langle u, v\\rangle + \\langle u, w \\rangle$;\n",
    "3. $\\langle \\lambda u, v \\rangle = \\lambda \\langle u, v\\rangle$;\n",
    "4. $\\langle u, \\lambda v\\rangle = \\lambda \\langle u, v \\rangle$.\n",
    "\n",
    "Эти свойства называются «билинейностью» (то есть линейности по обоим аргументам)."
   ]
  },
  {
   "cell_type": "markdown",
   "metadata": {},
   "source": [
    "#### Решение\n",
    "Пусть известны координаты векторов u, v и w:    \n",
    "$u = (u_1, u_2, ..., u_n),$ где $u_i \\in \\mathbb R$,  для $i= \\overline{1,n}$    \n",
    "$v = (v_1, v_2, ..., v_n),$ где $v_i \\in \\mathbb R$,  для $i= \\overline{1,n}$     \n",
    "$w = (w_1, w_2, ..., w_n),$ где $w_i \\in \\mathbb R$,  для $i= \\overline{1,n}$  \n",
    "    Доказательства будем строить на основе свойств операций сложния и умножения для дейсвительных чисел $\\mathbb R$.\n",
    "\n",
    "1. Докажем, что $\\langle u + v, w\\rangle = \\langle u, w\\rangle + \\langle v, w \\rangle$, по определению скалярного произведения и  суммы векторов, раскроем правую часть:\n",
    "$\\langle u + v, w\\rangle = (u_1 + v_1)w_1 + ... +(u_n + v_n)w_n$, далее по свойству дистрибутивности умножения относительно сложения, можно раскрыть скобки, затем сгруппировать слагаемые:    \n",
    "$\\langle u + v, w\\rangle = u_1w_1 + v_1w_1 + ... + u_nw_n + v_nw_n = (u_1w_1 + u_2w_2 +  ... + u_nw_n) + (v_1w_1 + v_2w_2 +...+v_nw_n) = \\langle u, w\\rangle + \\langle v, w \\rangle$       \n",
    "2. Аналогично можно доказать, что $\\langle u, v + w\\rangle = \\langle u, v\\rangle + \\langle u, w \\rangle$:    \n",
    "$\\langle u, v + w\\rangle = u_1(v_1 + w_1) + ... + u_n(v_n + w_n) = u_1v_1 + u_1w_1 + ... +u_nv_n + u_nw_n = (u_1v_1 +... + u_nv_n) + (u_1w_1 + ... + u_nw_n) = \\langle u, v\\rangle + \\langle u, w \\rangle$\n",
    "3. Докажем, что $\\langle \\lambda u, v \\rangle = \\lambda \\langle u, v\\rangle$, раскроем по определению:    \n",
    "$\\langle \\lambda u, v \\rangle =\\lambda u_1v_1 + ... \\lambda u_nv_n =  \\lambda(u_1v_1 + ...+u_nv_n) = \\lambda \\langle u, v\\rangle$\n",
    "4. Докажем, что $\\langle u, \\lambda v\\rangle = \\lambda \\langle u, v \\rangle$, аналогично раскроем по определению:    \n",
    "$\\langle u, \\lambda v\\rangle =  u_1 \\lambda v_1 + ... u_n \\lambda v_n = \\lambda(u_1v_1 + ...+u_nv_n) = \\lambda \\langle u, v\\rangle$"
   ]
  },
  {
   "cell_type": "markdown",
   "metadata": {},
   "source": [
    "### Задача 4\n",
    "При каком значении параметра $t$ векторы $u=(2, t)$ и $v=(4, -1)$\n",
    "\n",
    "1. Параллельны;\n",
    "2. Перпендикулярны?"
   ]
  },
  {
   "cell_type": "markdown",
   "metadata": {},
   "source": [
    "#### Решение \n",
    "1. Векторы параллельны или совпадают (коллинеарны), если они линейно зависимы: $\\lambda_1 u + \\lambda_2 v = 0$ или $u = \\lambda v$,    \n",
    "если $u = (u_1, u_2)$ и $v = (v_1, v_2)$ тогда $u_1 = \\lambda v_1$ и  $u_2 = \\lambda v_2$, тогда получим систему из двух уравнений:      \n",
    "$2 = \\lambda t$ и $4 = - \\lambda$ отсюда $\\lambda = -4$, $t = -1/2$    \n",
    "2. Векторы перпендикулярны, когда их скалярное произведение равно нулю:   \n",
    "$\\langle u, v \\rangle = u_1v_1 + u_2v_2 = 8 - t = 0$, отсюда $t = 8$\n"
   ]
  },
  {
   "cell_type": "markdown",
   "metadata": {},
   "source": [
    "### Задание гиперплоскости\n",
    "На лекции мы обсуждали, что прямая, проходящая через точку $Q$ перпендикулярно вектору $n$, задаётся уравнением\n",
    "\n",
    "$$\\langle OP, n \\rangle = \\langle OQ, n \\rangle,$$\n",
    "где $O$ — начало координат, $P$ — произвольная точка, лежащая на прямой.\n",
    "\n",
    "Таким же равенством задаётся плоскость в трёхмерном пространстве, проходящая через точку $Q$ и перпендикулярная вектору $n$, а также *гиперплоскость* в пространстве произвольной размерности. (Гиперплоскость — это подпространство, размерность которого на единицу меньше размерности объемлющего пространства. Например, для обычной двумерной плоскости гиперплоскость — это прямая; для трёхмерного пространства гиперплоскость — это обычная плоскость.)\n",
    "\n",
    "Если положить, что $n=(A_1, \\ldots, A_n)$, $P=(x_1, \\ldots, x_n)$ и $\\langle OQ, n \\rangle = D$, уравнение гиперплоскости примет вид:\n",
    "\n",
    "$$A_1 x_1 + \\ldots + A_n x_n = D$$\n",
    "\n",
    "Наоборот, если уравнение гиперплоскости имеет такой вид, то $(A_1, \\ldots, A_n)$ — вектор нормали к этой гиперплоскости (то есть вектор, который перпендикулярен этой гиперплоскости)."
   ]
  },
  {
   "cell_type": "markdown",
   "metadata": {},
   "source": [
    "### Задача 5\n",
    "Описать множество всех векторов\n",
    "\n",
    "1. параллельных;\n",
    "2. перпрендикулярных\n",
    "\n",
    "прямой, заданной уравнением $2x_1 + 3x_2 = \\sqrt{\\pi}$"
   ]
  },
  {
   "cell_type": "markdown",
   "metadata": {},
   "source": [
    "#### Решение \n",
    "1. Из уравнения, сразу видно, что вектор нормали имеет координаты: $n =(2, 3)$, значит все векторы, перпендикулярные ему будуь параллельны прямой, значит множество всех параллельных векторов можно задать уравнением: $2x_1 + 3x_2 = 0$\n",
    "2. Множество перпендикулярных векторов задается как множество векторов коллениарных вектору нормали $n$:   \n",
    "$(x_1, x_2) = \\lambda n$ или $x_1 = 2\\lambda$ и $x_2 = 3 \\lambda$"
   ]
  },
  {
   "cell_type": "markdown",
   "metadata": {},
   "source": [
    "**Определение.** Система векторов $u^1, u^2, \\ldots, u^k$ называется *линейно независимой* (ещё говорят, что эти векторы являются линейно независимыми), если ни один из этих векторов не выражается в виде линейной комбинации остальных."
   ]
  },
  {
   "cell_type": "markdown",
   "metadata": {},
   "source": [
    "### Задача 6 (*)\n",
    "Более традиционное определение линейной независимости звучит так:\n",
    "\n",
    "Система векторов $u^1, u^2, \\ldots, u^k$ называется *линейно независимой*, если никакая **нетривиальная** линейная комбинация этих векторов не равна нулевому вектору.\n",
    "\n",
    "Докажите, что это определение эквивалентно данному выше (по крайней мере, если векторов больше одного)."
   ]
  },
  {
   "cell_type": "markdown",
   "metadata": {},
   "source": [
    "#### Решение \n",
    "Согласно второму определнию:    \n",
    "$\\lambda_1 u^1 + \\lambda_2 u^2 +  \\dots + \\lambda_k u^k \\neq 0$, где \\{$\\lambda_1, \\lambda_2, \\dots, \\lambda_k\\} \\subset \\mathbb R$, причем хотя бы два из $\\lambda_i \\neq 0$, для $i = \\overline{1,k}$\n",
    "    \n",
    "Положим, что все $\\lambda_i \\neq 0$, тогда иначе можно записать для каждого вектора $u^i, i=\\overline{1,k}$:   \n",
    "$u^1 \\neq \\widetilde \\lambda_2 u^2 + \\widetilde\\lambda_3 u^3 + \\dots + \\widetilde\\lambda_k u^k$, где $\\widetilde \\lambda_i = \\frac{\\lambda_i}{\\lambda_1}, i=\\overline{2,k}$    \n",
    "$u^2 \\neq \\widetilde \\lambda_1 u^1 + \\widetilde\\lambda_3 u^3 + \\dots + \\widetilde\\lambda_k u^k$, где $\\widetilde \\lambda_i = \\frac{\\lambda_i}{\\lambda_2}, i = 1,3,\\dots ,k$  \n",
    "$\\dots$    \n",
    "$u^k \\neq \\widetilde \\lambda_1 u^1 + \\widetilde\\lambda_2 u^2 + \\dots + \\widetilde\\lambda_{k-1} u^{k-1}$, где $\\widetilde \\lambda_i = \\frac{\\lambda_i}{\\lambda_k}, i=\\overline{1,k-1}$\n",
    "\n",
    "Эта запись эквивалента первому определению."
   ]
  },
  {
   "cell_type": "markdown",
   "metadata": {},
   "source": [
    "### Задача 7\n",
    "Являются ли следующие системы векторов линейно независимыми? Ответ обосновать.\n",
    "\n",
    "1. $(1, 2)$, $(2,1)$.\n",
    "2. $(1, 2)$, $(2, 3)$, $(3, 5)$.\n",
    "2. $(1, 2)$, $(2, 3)$, $(\\sqrt{\\pi}, \\sin e)$.\n",
    "3. $(1, 0, 1)$, $(0, 1, 0)$, $(10, 3, 10)$.\n",
    "4. $(1, 0, 0)$, $(0, 3, 0)$, $(0, 0, 2)$.\n",
    "5. $(1, 2, 3, 4, 5)$, $(2, 4, 6, 8, 11)$.\n",
    "6. $(1, 2, 3, 4, 5, 6)$, $(2, 3, 4, 5, 6, 7), (10, 10, 10, 10, 10, 10)$."
   ]
  },
  {
   "cell_type": "markdown",
   "metadata": {},
   "source": [
    "#### Решение \n",
    "1.  Два вектора линейно зависимы, когда отношения их соответвующих координат равны: в данном примере $\\frac{1}{2} \\neq \\frac{2}{1}$, значит вектора линейно независымы.   \n",
    "2. Вектора являются линейно зависимыми, так как легко завметить, что третий вектор есть сумма певых двух: $1 + 2 = 3$ и $2 + 3 = 5$\n",
    "3. Любые вектора на плоскости $u^1, u^2,\\dots,u^k$, при $k > 2$ линейно зависимы, так как в таком случае, для плоскости (т.е. когда размерность вектора $n=2$) в координатах получаем систему из $n$ уравнений для $k$ неизвестных $\\lambda_1,\\dots, \\lambda_k$, если $k=3$, $n=2$, получаем, что количество неизвестных на единицу больше количества уравнений, значит мы можем задать один из кооффициентов $\\lambda_i$ произвольно и найти другие два.\n",
    "4. Векторы линейно зависимы, так как третьий вектор можно получить, как сумма певрого умноженного на 10 и второго умноженного на три.    \n",
    "5. Векторы линейно независимы, так как порарно перпендикулярны.    \n",
    "6. Векторы линейно независимы, так как отношение их соответсвующих координат не одинаково, для последней координаты $5/11 \\neq 1/2$    \n",
    "7. Векторы линейно зависимы, так если мы умножим первый вектор на -10, а второй на 10 и сложим, получим третий вектор.    \n"
   ]
  },
  {
   "cell_type": "markdown",
   "metadata": {},
   "source": [
    "### Задача 8 (*)\n",
    "Пусть система векторов $u^1, u^2, \\ldots, u^k$ является линейно независимой. Пусть вектор $v$ представляется в виде линейной комбинации векторов $u^1, \\ldots, u^k$, то есть $v = \\lambda_1 u^1+\\ldots + \\lambda_k u^k$. Докажите, что в этом случае такая линейная комбинация единственна, то есть если $v = \\mu_1 u^1 + \\ldots + \\mu_k u^k$, то $v = \\lambda_1 u^1+\\ldots + \\lambda_k u^k$.\n",
    "\n",
    "**Подсказка:** воспользоваться определением из задачи 6."
   ]
  },
  {
   "cell_type": "markdown",
   "metadata": {},
   "source": [
    "#### Решение \n",
    "Положим обратное, пусть:    \n",
    "$v = \\mu_1 u^1 + \\ldots + \\mu_k u^k$    \n",
    "$v = \\lambda_1 u^1+\\ldots + \\lambda_k u^k$    \n",
    "$\\mu_1 \\neq \\lambda_1,\\dots, \\mu_k \\neq \\lambda_k$    \n",
    "Тогда:    \n",
    "$\\mu_1 u^1 + \\ldots + \\mu_k u^k = \\lambda_1 u^1+\\ldots + \\lambda_k u^k$    \n",
    "$(\\mu_1 - \\lambda_1)u^1 + \\ldots + (\\mu_k -\\lambda_k)u^k = 0$, перепишем с заменой    \n",
    "$\\eta_1 u^1 + \\ldots + \\eta_1 u^k = 0$, где  $\\eta_i = \\mu_i - \\lambda_i$, для $i = \\overline{1, k}$,    \n",
    "но известно, что  векторы $u^1, u^2, \\ldots, u^k$ - система линейно независимых векторов, и значит $\\eta_1 u^1 + \\ldots + \\eta_1 u^k \\neq 0$ и уравнение имеет лишь тривиальное решение, т.е. когда $\\eta_i = 0$, что тоже самое, что и $\\mu_1 = \\lambda_1, \\dots, \\mu_k = \\lambda_k$. Пришли к противоречию. ЧТД"
   ]
  },
  {
   "cell_type": "markdown",
   "metadata": {},
   "source": [
    "### Задача 9\n",
    "Рассмотрим плоскость в трёхмерном пространстве, проходящую через точку $P = (1, 1, 1)$ перпендикулярно вектору $n=(1, 2, 4)$.\n",
    "\n",
    "1. Записать уравнение этой плоскости в виде $A_1 x_1 + A_2 x_2 + A_3 x_3 = D$.\n",
    "2. Найти точки пересечени этой плоскости с осями координат."
   ]
  },
  {
   "cell_type": "markdown",
   "metadata": {},
   "source": [
    "#### Решение \n",
    "1. Уравнение плоскости: $x_1 + 2x_2 + 4x_3 = \\langle OP, n \\rangle = 7$   \n",
    "2. Точки пересечения    \n",
    "с осью Ох1: $x_2 = 0$ и $x_3 = 0$, значит $x_1 = 7$    \n",
    "с осью Ох2: $x_1 = 0$ и $x_3 = 0$, значит $x_2 = 7/2$    \n",
    "с осью Ох3: $x_1 = 0$ и $x_2 = 0$, значит $x_3 = 7/4$    "
   ]
  },
  {
   "cell_type": "markdown",
   "metadata": {},
   "source": [
    "### Задача 10\n",
    "С помощью `numpy` и `matplotlib.pyplot` построить график функции $y = \\sin \\exp x$ на отрезке $[-1,5]$."
   ]
  },
  {
   "cell_type": "code",
   "execution_count": 2,
   "metadata": {},
   "outputs": [
    {
     "data": {
      "image/png": "[encoded data removed]",
      "text/plain": [
       "<matplotlib.figure.Figure at 0x7fe9c7a2dc50>"
      ]
     },
     "metadata": {},
     "output_type": "display_data"
    }
   ],
   "source": [
    "import numpy as np\n",
    "import matplotlib.pyplot as plt\n",
    "%matplotlib inline\n",
    "\n",
    "x = np.linspace(-1, 5, 5000)\n",
    "plt.grid(True)\n",
    "plt.plot(x, np.sin(np.exp(x)));"
   ]
  },
  {
   "cell_type": "markdown",
   "metadata": {},
   "source": [
    "### Задача 11 (*)\n",
    "Напишите каким-нибудь образом функцию, вычисляющую факториал целого числа (например, с помощью цикла или рекурсии). Сравните с помощью `%%timeit` скорость работы вашей функции с `math.factorial` для больших значений аргумента."
   ]
  },
  {
   "cell_type": "code",
   "execution_count": 3,
   "metadata": {
    "collapsed": true
   },
   "outputs": [],
   "source": [
    "def my_factorial(n):\n",
    "    f = 1\n",
    "    for i in range(1, n+1):\n",
    "        f = f*i\n",
    "    return f\n",
    "import math"
   ]
  },
  {
   "cell_type": "code",
   "execution_count": 4,
   "metadata": {},
   "outputs": [
    {
     "name": "stdout",
     "output_type": "stream",
     "text": [
      "6.81 µs ± 132 ns per loop (mean ± std. dev. of 7 runs, 100000 loops each)\n"
     ]
    }
   ],
   "source": [
    "%%timeit\n",
    "my_factorial(100)"
   ]
  },
  {
   "cell_type": "code",
   "execution_count": 5,
   "metadata": {},
   "outputs": [
    {
     "name": "stdout",
     "output_type": "stream",
     "text": [
      "1.27 µs ± 48.1 ns per loop (mean ± std. dev. of 7 runs, 1000000 loops each)\n"
     ]
    }
   ],
   "source": [
    "%%timeit\n",
    "math.factorial(100)"
   ]
  },
  {
   "cell_type": "markdown",
   "metadata": {},
   "source": [
    "#### Задача 12 (**)\n",
    "\n",
    "Отображение $f\\colon V \\to  W$ из векторного пространства $V$ в векторное пространство $W$ называется *линейным*, если для любых векторов $u, v\\in V$ и любого скаляра $\\lambda$ выполняются соотношения:\n",
    "\n",
    "* $f(u+v)=f(u)+f(v)$;\n",
    "* $f(\\lambda u) = \\lambda f(u)$.\n",
    "\n",
    "Линейное отображение $\\varphi \\colon V \\to \\mathbb R$ называется *линейным функционалом* или *ковектором*. Множество всех линейных функционалов, определённых на $V$, называется *сопряжённым пространством к $V$* и обозначается через $V^*$.\n",
    "\n",
    "Пусть $V$ — конечномерное пространство и на нём задана операция скалярного произведения. Доказать, что тогда для любого ковектора $\\varphi \\in V^*$ существует и единственный вектор $v\\in V$, такой, что $\\varphi(u)=\\langle u, v\\rangle$ для любого вектора $u \\in V$."
   ]
  },
  {
   "cell_type": "markdown",
   "metadata": {},
   "source": [
    "**Решение**    \n",
    "Пусть для любого вектора $u \\in V$, определен функционал $\\varphi \\colon V \\to \\mathbb R$ такой, что   \n",
    "$\\varphi(u)=\\langle u, v\\rangle$, где $v \\in V$   \n",
    "Проверим является ли он линейным:    \n",
    "$\\varphi(u + v) = \\langle u+v, v\\rangle = \\langle u,v\\rangle + \\langle v, v\\rangle = \\varphi(u) + \\varphi(v)$    \n",
    "$\\varphi(\\lambda u) = \\langle \\lambda u , v\\rangle = \\lambda \\langle u , v\\rangle = \\lambda \\varphi(u)$    \n",
    "Из того, что ковектор это отображение из векторного пространства в множество дейсвительных чисел, можно утверждать, что    \n",
    "$\\varphi(u)=\\langle u, v\\rangle = r$, где $r \\in \\mathbb R$ \n",
    "Т.е. получили уравнение $\\langle u, v\\rangle = r$, сущестование решение которого означет, что существует $v \\in V$\n",
    "Докажем единственность от противного.    \n",
    "Для любых $v_1, v_2 \\in V$ рассмотрим произвольный ковектор $\\varphi$:    \n",
    "$\\varphi(u) = \\langle u, v_1\\rangle$    \n",
    "$\\varphi(u) = \\langle u, v_2\\rangle$    \n",
    "В силу произвольного выбора  $v_1, v_2$, пусть $v_1 = v_2 + w$, где $w \\in V$, тогда    \n",
    "$\\varphi(u) = \\langle u, v_1\\rangle = \\langle u, v_2 + w\\rangle = \\langle u, v_2\\rangle + \\langle u, w\\rangle$  \n",
    "Иначе согласно тому, что $\\varphi(u) = \\langle u, v_2\\rangle$, последнее можно переписать:    \n",
    "$\\varphi(u) = \\varphi(u) + \\langle u, w\\rangle$, тогда $\\langle u, w\\rangle = 0$, но векторы $u$ и $v$ произвольны, значит пришли к противоречию. "
   ]
  },
  {
   "cell_type": "markdown",
   "metadata": {},
   "source": [
    "### Квартет Энскомба\n",
    "Загрузим набор данных, который называется «квартетом Энскомба». (Нам потребуется использовать пакет `pandas`.)"
   ]
  },
  {
   "cell_type": "code",
   "execution_count": 6,
   "metadata": {},
   "outputs": [
    {
     "data": {
      "text/html": [
       "<div>\n",
       "<style scoped>\n",
       "    .dataframe tbody tr th:only-of-type {\n",
       "        vertical-align: middle;\n",
       "    }\n",
       "\n",
       "    .dataframe tbody tr th {\n",
       "        vertical-align: top;\n",
       "    }\n",
       "\n",
       "    .dataframe thead th {\n",
       "        text-align: right;\n",
       "    }\n",
       "</style>\n",
       "<table border=\"1\" class=\"dataframe\">\n",
       "  <thead>\n",
       "    <tr style=\"text-align: right;\">\n",
       "      <th></th>\n",
       "      <th>x1</th>\n",
       "      <th>x2</th>\n",
       "      <th>x3</th>\n",
       "      <th>x4</th>\n",
       "      <th>y1</th>\n",
       "      <th>y2</th>\n",
       "      <th>y3</th>\n",
       "      <th>y4</th>\n",
       "    </tr>\n",
       "  </thead>\n",
       "  <tbody>\n",
       "    <tr>\n",
       "      <th>1</th>\n",
       "      <td>10</td>\n",
       "      <td>10</td>\n",
       "      <td>10</td>\n",
       "      <td>8</td>\n",
       "      <td>8.04</td>\n",
       "      <td>9.14</td>\n",
       "      <td>7.46</td>\n",
       "      <td>6.58</td>\n",
       "    </tr>\n",
       "    <tr>\n",
       "      <th>2</th>\n",
       "      <td>8</td>\n",
       "      <td>8</td>\n",
       "      <td>8</td>\n",
       "      <td>8</td>\n",
       "      <td>6.95</td>\n",
       "      <td>8.14</td>\n",
       "      <td>6.77</td>\n",
       "      <td>5.76</td>\n",
       "    </tr>\n",
       "    <tr>\n",
       "      <th>3</th>\n",
       "      <td>13</td>\n",
       "      <td>13</td>\n",
       "      <td>13</td>\n",
       "      <td>8</td>\n",
       "      <td>7.58</td>\n",
       "      <td>8.74</td>\n",
       "      <td>12.74</td>\n",
       "      <td>7.71</td>\n",
       "    </tr>\n",
       "    <tr>\n",
       "      <th>4</th>\n",
       "      <td>9</td>\n",
       "      <td>9</td>\n",
       "      <td>9</td>\n",
       "      <td>8</td>\n",
       "      <td>8.81</td>\n",
       "      <td>8.77</td>\n",
       "      <td>7.11</td>\n",
       "      <td>8.84</td>\n",
       "    </tr>\n",
       "    <tr>\n",
       "      <th>5</th>\n",
       "      <td>11</td>\n",
       "      <td>11</td>\n",
       "      <td>11</td>\n",
       "      <td>8</td>\n",
       "      <td>8.33</td>\n",
       "      <td>9.26</td>\n",
       "      <td>7.81</td>\n",
       "      <td>8.47</td>\n",
       "    </tr>\n",
       "    <tr>\n",
       "      <th>6</th>\n",
       "      <td>14</td>\n",
       "      <td>14</td>\n",
       "      <td>14</td>\n",
       "      <td>8</td>\n",
       "      <td>9.96</td>\n",
       "      <td>8.10</td>\n",
       "      <td>8.84</td>\n",
       "      <td>7.04</td>\n",
       "    </tr>\n",
       "    <tr>\n",
       "      <th>7</th>\n",
       "      <td>6</td>\n",
       "      <td>6</td>\n",
       "      <td>6</td>\n",
       "      <td>8</td>\n",
       "      <td>7.24</td>\n",
       "      <td>6.13</td>\n",
       "      <td>6.08</td>\n",
       "      <td>5.25</td>\n",
       "    </tr>\n",
       "    <tr>\n",
       "      <th>8</th>\n",
       "      <td>4</td>\n",
       "      <td>4</td>\n",
       "      <td>4</td>\n",
       "      <td>19</td>\n",
       "      <td>4.26</td>\n",
       "      <td>3.10</td>\n",
       "      <td>5.39</td>\n",
       "      <td>12.50</td>\n",
       "    </tr>\n",
       "    <tr>\n",
       "      <th>9</th>\n",
       "      <td>12</td>\n",
       "      <td>12</td>\n",
       "      <td>12</td>\n",
       "      <td>8</td>\n",
       "      <td>10.84</td>\n",
       "      <td>9.13</td>\n",
       "      <td>8.15</td>\n",
       "      <td>5.56</td>\n",
       "    </tr>\n",
       "    <tr>\n",
       "      <th>10</th>\n",
       "      <td>7</td>\n",
       "      <td>7</td>\n",
       "      <td>7</td>\n",
       "      <td>8</td>\n",
       "      <td>4.82</td>\n",
       "      <td>7.26</td>\n",
       "      <td>6.42</td>\n",
       "      <td>7.91</td>\n",
       "    </tr>\n",
       "    <tr>\n",
       "      <th>11</th>\n",
       "      <td>5</td>\n",
       "      <td>5</td>\n",
       "      <td>5</td>\n",
       "      <td>8</td>\n",
       "      <td>5.68</td>\n",
       "      <td>4.74</td>\n",
       "      <td>5.73</td>\n",
       "      <td>6.89</td>\n",
       "    </tr>\n",
       "  </tbody>\n",
       "</table>\n",
       "</div>"
      ],
      "text/plain": [
       "    x1  x2  x3  x4     y1    y2     y3     y4\n",
       "1   10  10  10   8   8.04  9.14   7.46   6.58\n",
       "2    8   8   8   8   6.95  8.14   6.77   5.76\n",
       "3   13  13  13   8   7.58  8.74  12.74   7.71\n",
       "4    9   9   9   8   8.81  8.77   7.11   8.84\n",
       "5   11  11  11   8   8.33  9.26   7.81   8.47\n",
       "6   14  14  14   8   9.96  8.10   8.84   7.04\n",
       "7    6   6   6   8   7.24  6.13   6.08   5.25\n",
       "8    4   4   4  19   4.26  3.10   5.39  12.50\n",
       "9   12  12  12   8  10.84  9.13   8.15   5.56\n",
       "10   7   7   7   8   4.82  7.26   6.42   7.91\n",
       "11   5   5   5   8   5.68  4.74   5.73   6.89"
      ]
     },
     "execution_count": 6,
     "metadata": {},
     "output_type": "execute_result"
    }
   ],
   "source": [
    "import pandas as pd\n",
    "url = \"https://vincentarelbundock.github.io/Rdatasets/csv/datasets/anscombe.csv\"\n",
    "data = pd.read_csv(url, index_col=0)\n",
    "data"
   ]
  },
  {
   "cell_type": "markdown",
   "metadata": {},
   "source": [
    "Для обращения к отдельным переменным (стобцам таблицы) нужно использовать такой синтаксис:"
   ]
  },
  {
   "cell_type": "code",
   "execution_count": 7,
   "metadata": {},
   "outputs": [
    {
     "data": {
      "text/plain": [
       "1     10\n",
       "2      8\n",
       "3     13\n",
       "4      9\n",
       "5     11\n",
       "6     14\n",
       "7      6\n",
       "8      4\n",
       "9     12\n",
       "10     7\n",
       "11     5\n",
       "Name: x1, dtype: int64"
      ]
     },
     "execution_count": 7,
     "metadata": {},
     "output_type": "execute_result"
    }
   ],
   "source": [
    "data['x1']"
   ]
  },
  {
   "cell_type": "markdown",
   "metadata": {},
   "source": [
    "(Первая колонка — номер наблюдения; на неё сейчас можно не обращать внимания.)\n",
    "\n",
    "### Задача 13\n",
    "1. Для каждой из переменных, входящих в «квартет Энскомба», найти среднее и выборочную дисперсию.\n",
    "2. Для каждой из четырёх пар соответствующих переменных (`x1` и `y1`, `x2` и `y2` и т.д.) найти корреляцию Пирсона. (Подсказка: можно использовать функцию `pearsonr` из `scipy.stats`: она возвращает пару, первый элемент которой — коэффициент корреляции, а второй — *p-value* для проверки нулевой гипотезы об отсутствии зависимости между величинами.)\n",
    "3. Для каждой из указанных пар переменных построить scatter plot. (Подсказка: можно использовать `plt.plot` или `plt.scatter`.)\n",
    "\n",
    "*Квартет Энскомба демонстрирует, что даже если числовые характеристики выборок совпадают, их реальное распределение и характер связей между переменными могут существенно различаться. Поэтому визуализация — важный элемент анализа данных.*"
   ]
  },
  {
   "cell_type": "code",
   "execution_count": 8,
   "metadata": {},
   "outputs": [
    {
     "data": {
      "text/plain": [
       "9.0"
      ]
     },
     "execution_count": 8,
     "metadata": {},
     "output_type": "execute_result"
    }
   ],
   "source": [
    "np.mean(data['x1'])"
   ]
  },
  {
   "cell_type": "code",
   "execution_count": 9,
   "metadata": {},
   "outputs": [
    {
     "data": {
      "text/plain": [
       "9.0"
      ]
     },
     "execution_count": 9,
     "metadata": {},
     "output_type": "execute_result"
    }
   ],
   "source": [
    "np.mean(data['x2'])"
   ]
  },
  {
   "cell_type": "code",
   "execution_count": 10,
   "metadata": {},
   "outputs": [
    {
     "data": {
      "text/plain": [
       "9.0"
      ]
     },
     "execution_count": 10,
     "metadata": {},
     "output_type": "execute_result"
    }
   ],
   "source": [
    "np.mean(data['x3'])"
   ]
  },
  {
   "cell_type": "code",
   "execution_count": 11,
   "metadata": {},
   "outputs": [
    {
     "data": {
      "text/plain": [
       "9.0"
      ]
     },
     "execution_count": 11,
     "metadata": {},
     "output_type": "execute_result"
    }
   ],
   "source": [
    "np.mean(data['x4'])"
   ]
  },
  {
   "cell_type": "code",
   "execution_count": 12,
   "metadata": {},
   "outputs": [
    {
     "data": {
      "text/plain": [
       "7.500909090909093"
      ]
     },
     "execution_count": 12,
     "metadata": {},
     "output_type": "execute_result"
    }
   ],
   "source": [
    "np.mean(data['y1'])"
   ]
  },
  {
   "cell_type": "code",
   "execution_count": 13,
   "metadata": {},
   "outputs": [
    {
     "data": {
      "text/plain": [
       "7.500909090909091"
      ]
     },
     "execution_count": 13,
     "metadata": {},
     "output_type": "execute_result"
    }
   ],
   "source": [
    "np.mean(data['y2'])"
   ]
  },
  {
   "cell_type": "code",
   "execution_count": 14,
   "metadata": {},
   "outputs": [
    {
     "data": {
      "text/plain": [
       "7.500000000000001"
      ]
     },
     "execution_count": 14,
     "metadata": {},
     "output_type": "execute_result"
    }
   ],
   "source": [
    "np.mean(data['y3'])"
   ]
  },
  {
   "cell_type": "code",
   "execution_count": 15,
   "metadata": {},
   "outputs": [
    {
     "data": {
      "text/plain": [
       "7.50090909090909"
      ]
     },
     "execution_count": 15,
     "metadata": {},
     "output_type": "execute_result"
    }
   ],
   "source": [
    "np.mean(data['y4'])"
   ]
  },
  {
   "cell_type": "code",
   "execution_count": 16,
   "metadata": {},
   "outputs": [
    {
     "data": {
      "text/plain": [
       "(0.81642051634484, 0.002169628873078789)"
      ]
     },
     "execution_count": 16,
     "metadata": {},
     "output_type": "execute_result"
    },
    {
     "data": {
      "image/png": "[encoded data removed]",
      "text/plain": [
       "<matplotlib.figure.Figure at 0x7fe9bda7a748>"
      ]
     },
     "metadata": {},
     "output_type": "display_data"
    }
   ],
   "source": [
    "import scipy.stats as st\n",
    "kor_1, p_1 = st.pearsonr(data['x1'], data['y1'])\n",
    "plt.plot(data['x1'], data['y1'], 'o')\n",
    "kor_1, p_1"
   ]
  },
  {
   "cell_type": "code",
   "execution_count": 17,
   "metadata": {},
   "outputs": [
    {
     "data": {
      "text/plain": [
       "(0.8162365060002427, 0.002178816236910803)"
      ]
     },
     "execution_count": 17,
     "metadata": {},
     "output_type": "execute_result"
    },
    {
     "data": {
      "image/png": "[encoded data removed]",
      "text/plain": [
       "<matplotlib.figure.Figure at 0x7fe9b61c4550>"
      ]
     },
     "metadata": {},
     "output_type": "display_data"
    }
   ],
   "source": [
    "kor_2, p_2 = st.pearsonr(data['x2'], data['y2'])\n",
    "plt.plot(data['x2'], data['y2'], 'o')\n",
    "kor_2, p_2"
   ]
  },
  {
   "cell_type": "code",
   "execution_count": 18,
   "metadata": {},
   "outputs": [
    {
     "data": {
      "text/plain": [
       "(0.8162867394895981, 0.0021763052792280304)"
      ]
     },
     "execution_count": 18,
     "metadata": {},
     "output_type": "execute_result"
    },
    {
     "data": {
      "image/png": "[encoded data removed]",
      "text/plain": [
       "<matplotlib.figure.Figure at 0x7fe9b619e860>"
      ]
     },
     "metadata": {},
     "output_type": "display_data"
    }
   ],
   "source": [
    "kor_3, p_3 = st.pearsonr(data['x3'], data['y3'])\n",
    "plt.plot(data['x3'], data['y3'], 'o')\n",
    "kor_3, p_3"
   ]
  },
  {
   "cell_type": "code",
   "execution_count": 19,
   "metadata": {},
   "outputs": [
    {
     "data": {
      "text/plain": [
       "(0.816521436888503, 0.0021646023471972127)"
      ]
     },
     "execution_count": 19,
     "metadata": {},
     "output_type": "execute_result"
    },
    {
     "data": {
      "image/png": "[encoded data removed]",
      "text/plain": [
       "<matplotlib.figure.Figure at 0x7fe9b60fbe80>"
      ]
     },
     "metadata": {},
     "output_type": "display_data"
    }
   ],
   "source": [
    "kor_4, p_4 = st.pearsonr(data['x4'], data['y4'])\n",
    "plt.plot(data['x4'], data['y4'], 'o')\n",
    "kor_4, p_4"
   ]
  },
  {
   "cell_type": "markdown",
   "metadata": {},
   "source": [
    "### Задача 14 (*)\n",
    "\n",
    "*Если хотите потренироваться с numpy, попробуйте решить эту задачу, не используя ни одного цикла. Ответ должен выводиться автоматически, без вмешательства человека.*\n",
    "\n",
    "Будем проводить следующий численный эксперимент. Сгенерируем тысячу независимых выборок из стандартного нормального распределения одинаковой длины `n = 10`. Посчитаем попарные коэффициенты корреляции между всеми этими выборками. Выберем пару выборок с наибольшим по модулю коэффициентом корреляции.\n",
    "\n",
    "Указать, какой коэффициент корреляции получится. Будет ли эта корреляция значимой? Нарисовать scatter plot для этой пары выборок.\n",
    "\n",
    "*Эта задача показывает, что если долго искать, то можно найти хорошо коррелирующие переменные, даже если они заведомо были порождены независимыми случайными величинами.*"
   ]
  },
  {
   "cell_type": "code",
   "execution_count": 20,
   "metadata": {
    "collapsed": true
   },
   "outputs": [],
   "source": [
    "samples = np.random.randn(1000, 10)      #создаем 1000 выборок длины 10\n",
    "correlation = np.corrcoef(samples)   #находим матрицу коэффициентов корреляции\n",
    "np.fill_diagonal(correlation, 0)     #для поиска максимума заменим единицы на нули\n",
    "sample_max = np.argmax(abs(correlation))"
   ]
  },
  {
   "cell_type": "code",
   "execution_count": 21,
   "metadata": {
    "collapsed": true
   },
   "outputs": [],
   "source": [
    "sample_1, sample_2 = np.unravel_index(sample_max, correlation.shape)"
   ]
  },
  {
   "cell_type": "code",
   "execution_count": 22,
   "metadata": {},
   "outputs": [
    {
     "data": {
      "text/plain": [
       "(0.9707293767193053, 3.100052686985843e-06)"
      ]
     },
     "execution_count": 22,
     "metadata": {},
     "output_type": "execute_result"
    }
   ],
   "source": [
    "from scipy.stats import pearsonr\n",
    "pearsonr(samples[sample_1], samples[sample_2])"
   ]
  },
  {
   "cell_type": "code",
   "execution_count": 23,
   "metadata": {},
   "outputs": [
    {
     "data": {
      "text/plain": [
       "<matplotlib.collections.PathCollection at 0x7fe9b608d588>"
      ]
     },
     "execution_count": 23,
     "metadata": {},
     "output_type": "execute_result"
    },
    {
     "data": {
      "image/png": "[encoded data removed]",
      "text/plain": [
       "<matplotlib.figure.Figure at 0x7fe9bda7a240>"
      ]
     },
     "metadata": {},
     "output_type": "display_data"
    }
   ],
   "source": [
    "plt.grid(True)\n",
    "plt.scatter(samples[sample_1], samples[sample_2], marker='*')"
   ]
  },
  {
   "cell_type": "markdown",
   "metadata": {},
   "source": [
    "p-value < 0.05, значит, корреляция является значимой "
   ]
  },
  {
   "cell_type": "code",
   "execution_count": null,
   "metadata": {
    "collapsed": true
   },
   "outputs": [],
   "source": []
  }
 ],
 "metadata": {
  "kernelspec": {
   "display_name": "Python 3",
   "language": "python",
   "name": "python3"
  },
  "language_info": {
   "codemirror_mode": {
    "name": "ipython",
    "version": 3
   },
   "file_extension": ".py",
   "mimetype": "text/x-python",
   "name": "python",
   "nbconvert_exporter": "python",
   "pygments_lexer": "ipython3",
   "version": "3.6.3"
  },
  "toc": {
   "toc_cell": false,
   "toc_number_sections": false,
   "toc_section_display": "none",
   "toc_threshold": 6,
   "toc_window_display": false
  }
 },
 "nbformat": 4,
 "nbformat_minor": 1
}
