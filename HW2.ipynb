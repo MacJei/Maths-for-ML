{
 "cells": [
  {
   "cell_type": "markdown",
   "metadata": {},
   "source": [
    "# Математика для машинного обучения\n",
    "## Домашнее задание №2\n",
    "\n",
    "_Автор задания: Илья Щуров_\n",
    "\n",
    "Подготовлено для программы «[Практический анализ данных и машинное обучение](https://cs.hse.ru/dpo/bigml)» (ФКН НИУ ВШЭ)."
   ]
  },
  {
   "cell_type": "markdown",
   "metadata": {},
   "source": [
    "Задание выполнила: Хужина Вария Тимуровна"
   ]
  },
  {
   "cell_type": "markdown",
   "metadata": {},
   "source": [
    "## Статистика\n",
    "### Описательные статистики\n",
    "Для выборки $x_1, x_2, \\ldots, x_n$ определены следующие величины (они часто называются *описательными статистиками*):\n",
    "\n",
    "1. Выборочное среднее: $$\\bar x = \\frac{x_1 + x_2 + \\ldots + x_n}{n}.$$\n",
    "2. Выборочная дисперсия: $$\\sigma^2 = \\frac{(x_1-\\bar x)^2 + (x_2 - \\bar x)^2 + \\ldots + (x_n - \\bar x)^2}{n}.$$\n",
    "3. Исправленная выборочная дисперсия: $$\\sigma_+^2 = \\frac{(x_1-\\bar x)^2 + (x_2 - \\bar x)^2 + \\ldots + (x_n - \\bar x)^2}{n - 1}.$$\n",
    "4. Выборочное стандартное отклонение: квадратный корень из выборочной дисперсии (обозначается $\\sigma$ или $SD$).\n",
    "5. Исправленное выборочное стандартное отклонение: квадратный корень из исправленной выборочной дисперсии (обозначается $\\sigma_+$ или $SD_+$ или ещё как-нибудь).\n",
    "6. [Медиана](https://ru.wikipedia.org/wiki/%D0%9C%D0%B5%D0%B4%D0%B8%D0%B0%D0%BD%D0%B0_(%D1%81%D1%82%D0%B0%D1%82%D0%B8%D1%81%D1%82%D0%B8%D0%BA%D0%B0%29)."
   ]
  },
  {
   "cell_type": "code",
   "execution_count": 1,
   "metadata": {
    "collapsed": true
   },
   "outputs": [],
   "source": [
    "import numpy as np\n",
    "from scipy import stats\n",
    "import matplotlib.pyplot as plt\n",
    "%matplotlib inline"
   ]
  },
  {
   "cell_type": "markdown",
   "metadata": {},
   "source": [
    "### Задача 1\n",
    "Для выборки $\\{1, 10, 2, 15, 100\\}$ найти все характеристики, перечисленные выше.\n",
    "\n",
    "Подсказка: можно использовать функции `np.mean`, `np.var`, `np.std`, `np.median`. Для вычисления исправленной выборочной дисперсии и исправленного выборочного стандартного отклонения необходимо соответствующим функциям передать параметр `ddof=1`."
   ]
  },
  {
   "cell_type": "code",
   "execution_count": 2,
   "metadata": {},
   "outputs": [
    {
     "name": "stdout",
     "output_type": "stream",
     "text": [
      "Sample mean =  25.6\n",
      "Sample variance =  1410.64\n",
      "Sample variance + =  1763.3000000000002\n",
      "Sample standart deviation =  37.55848772248425\n",
      "Sample standart deviation + =  41.99166583978302\n",
      "Sample median =  10.0\n"
     ]
    }
   ],
   "source": [
    "sample = [1, 10, 2, 15, 100]\n",
    "print('Sample mean = ', np.mean(sample))\n",
    "print('Sample variance = ', np.var(sample))\n",
    "print('Sample variance + = ', np.var(sample, ddof=1))\n",
    "print('Sample standart deviation = ', np.std(sample))\n",
    "print('Sample standart deviation + = ', np.std(sample, ddof=1))\n",
    "print('Sample median = ', np.median(sample))"
   ]
  },
  {
   "cell_type": "markdown",
   "metadata": {},
   "source": [
    "### Задача 2\n",
    "\n",
    "Кракозяблики бывают двух типов — левые и правые. Для решения задачи распознавания типа кракозяблика по его фотографии раньше использовали алгоритм *QZD*. Он давал точность (accuracy) в 67%. Новый алгоритм *EQZD* был запущен 10 раз на разных датасетах и показал следующие accuracy: 69%, 63%, 70%, 72%, 63%, 73%, 72%, 70%, 70%, 61%. Правда ли, что алгоритм *EQZD* лучше алгоритма *QZD* с точки зрения показателя accuracy? Используйте t-тест для проверки этого утверждения. Сформулируйте нулевую гипотезу и альтернативу. Для вычисления p-value используйте функцию `ttest_1samp` из пакета `scipy.stats`. Проинтерпретируйте полученное p-value."
   ]
  },
  {
   "cell_type": "code",
   "execution_count": 3,
   "metadata": {},
   "outputs": [
    {
     "name": "stdout",
     "output_type": "stream",
     "text": [
      "t-statisctics = 0.951219512195123 \n",
      "p-value = 0.36633740038827445\n"
     ]
    }
   ],
   "source": [
    "# H_0 - accuracy алгоритма EQZD равна accuracy алгоритма QZD = 67%\n",
    "# H_1 - accuracy алгоритма EQZD больше accuracy алгоритма QZD\n",
    "\n",
    "mean_QZD = 0.67\n",
    "sample_EQZD = [0.69, 0.63, 0.70, 0.72, 0.63, 0.73, 0.72, 0.70, 0.70, 0.61]\n",
    "\n",
    "# одновыборочный t-критерий Стьюдента\n",
    "t_stat, pvalue = stats.ttest_1samp(sample_EQZD, mean_QZD)\n",
    "print('t-statisctics =', t_stat, '\\np-value =', pvalue)"
   ]
  },
  {
   "cell_type": "markdown",
   "metadata": {},
   "source": [
    "p-value = 0.5587... - вероятность получить тот результат который получили или еще более экстримальный, при условии, что нулевая гипотеза верна.\n",
    "\n",
    "p-value > 0.05 (уровнь значимости), значит недостаточно данных для ответа на вопрос задачи."
   ]
  },
  {
   "cell_type": "markdown",
   "metadata": {},
   "source": [
    "### Задача 3\n",
    "Будем проводить следующий эксперимент: сгенерируем две различные независимые выборки размером `n = 5` из равномерного распределения на отрезке $[0, 1]$. С помощью теста Стьюдента проверим гипотезу о том, что эти две выборки были получены из распределений с различными средними ($H_0\\colon m_1 = m_2$, $H_1\\colon m_1 ≠ m_2$) на уровне значимости 5%.\n",
    "\n",
    "Повторим этот эксперимент 10000 раз. Сколько раз мы будем совершать ошибку первого рода, то есть ошибочно отвергать нулевую гипотезу? Что будет, если изменить уровень значимости (например, использовать уровень значимости 1%)? Что будет, если увеличить размер выборки до `n = 20`?\n",
    "\n",
    "Для генерирования выборок можно использовать `uniform.rvs`, для двухвыборочного теста Стьюдента — `ttest_ind` (обе функции из пакета `scipy.stats`). Последняя функция возвращает пару, состоящую из значения t-статистики и p-value."
   ]
  },
  {
   "cell_type": "code",
   "execution_count": 4,
   "metadata": {
    "collapsed": true
   },
   "outputs": [],
   "source": [
    "def student_test(alpha, sample_size, number_of_samples):\n",
    "    number_of_rejections = 0  #количество раз, когда мы отвергли нулевую гипотезу   \n",
    "        \n",
    "    #цикл по количеству выборок\n",
    "    for i in range(number_of_samples):\n",
    "        sample_1 = stats.uniform.rvs(size=sample_size)  #первая выборка\n",
    "        sample_2 = stats.uniform.rvs(size=sample_size)  #вторая выборка\n",
    "        m1 = np.mean(sample_1)    #мат. ожидание                      \n",
    "        m2 = np.mean(sample_2)\n",
    "        t_stats, Pvalue = stats.ttest_ind(sample_1, sample_2)  #t-тест\n",
    "        #сравнение c заданным уровнем значимости:\n",
    "        if Pvalue < alpha:\n",
    "            number_of_rejections +=1  #подстчет количества количество раз, когда мы отвергли нулевую гипотезу \n",
    "    #доля ошибок:                                \n",
    "    mistakes_ratio = number_of_rejections/number_of_samples\n",
    "    #вывод результатов:\n",
    "    print('Number of rejections  {}'.format(number_of_rejections))\n",
    "    \n",
    "    if number_of_samples==1:\n",
    "        print('mean_1 =', m1)\n",
    "        print('mean_2 =', m2)\n",
    "        print('p-value =', Pvalue)\n",
    "    else:\n",
    "        print('Mistakes rate is', mistakes_ratio)"
   ]
  },
  {
   "cell_type": "code",
   "execution_count": 5,
   "metadata": {},
   "outputs": [
    {
     "name": "stdout",
     "output_type": "stream",
     "text": [
      "Number of rejections  0\n",
      "mean_1 = 0.40636423412921496\n",
      "mean_2 = 0.5723720180762553\n",
      "p-value = 0.401800080658523\n"
     ]
    }
   ],
   "source": [
    "student_test(alpha=0.05, sample_size=5, number_of_samples=1)"
   ]
  },
  {
   "cell_type": "code",
   "execution_count": 6,
   "metadata": {},
   "outputs": [
    {
     "name": "stdout",
     "output_type": "stream",
     "text": [
      "Number of rejections  530\n",
      "Mistakes rate is 0.053\n"
     ]
    }
   ],
   "source": [
    "student_test(alpha=0.05, sample_size=5, number_of_samples=10000)"
   ]
  },
  {
   "cell_type": "code",
   "execution_count": 7,
   "metadata": {},
   "outputs": [
    {
     "name": "stdout",
     "output_type": "stream",
     "text": [
      "Number of rejections  119\n",
      "Mistakes rate is 0.0119\n"
     ]
    }
   ],
   "source": [
    "student_test(alpha=0.01, sample_size=5, number_of_samples=10000)"
   ]
  },
  {
   "cell_type": "code",
   "execution_count": 8,
   "metadata": {},
   "outputs": [
    {
     "name": "stdout",
     "output_type": "stream",
     "text": [
      "Number of rejections  97\n",
      "Mistakes rate is 0.0097\n"
     ]
    }
   ],
   "source": [
    "student_test(alpha=0.01, sample_size=20, number_of_samples=10000)"
   ]
  },
  {
   "cell_type": "code",
   "execution_count": 9,
   "metadata": {},
   "outputs": [
    {
     "name": "stdout",
     "output_type": "stream",
     "text": [
      "Number of rejections  54\n",
      "Mistakes rate is 0.0054\n"
     ]
    }
   ],
   "source": [
    "student_test(alpha=0.005, sample_size=1000, number_of_samples=10000)"
   ]
  },
  {
   "cell_type": "markdown",
   "metadata": {},
   "source": [
    "Так как заранее известно, что две выборки имеют стандарное равномерное распределение, значит их \"истинное\" мат. ожидание равно 0.5, стало быть отвергая нулевую гипотезу о равненстве их мат. ожиданий мы совершаем ошибку первого рода. Чем меньше уровень значимости, тем \"осторожнее\" мы отвергаем нулевую гипотезу, и, как видно из примера, количество отвергнутых гипотех при $\\alpha = 5$% больше, чем при $\\alpha = 1$%, с другой стороны когда размер выборок большой, т.е. больше данных количество ошибок уменьшается."
   ]
  },
  {
   "cell_type": "markdown",
   "metadata": {},
   "source": [
    "### Задача 4\n",
    "Напомним, что для выборки $x=\\{x_1, x_2, \\ldots, x_n\\}$, сгенерированной из некоторой генеральной совокупности $X$, $Z$-статистика вычисляется так:\n",
    "\n",
    "$$\n",
    "Z = \\frac{\\bar x - EX}{\\sigma_X} \\sqrt{n},\n",
    "$$\n",
    "где $EX$ — среднее по генеральной совокупности (или, что то же самое, математическое ожидание случайной величины $X$), $\\sigma_X$ — стандартное отклонение по генеральной совокупности (или, что то же самое, стандартное отклонение случайной величины $X$), $n$ — число элементов в выборке, $\\bar x = \\frac{x_1 + \\ldots + x_n}{n}$ — выборочное среднее.\n",
    "\n",
    "Для статистических тестов использовать $Z$-статистику сложно, посольку мы обычно не знаем стандартного отклонения по генеральной совокупности $\\sigma_X$. Зато мы можем вычислить исправленное выборочное стандартное отклонение $\\sigma_+(x)$. Оно будет приближать $\\sigma_X$. Если заменить в формуле для $Z$-статистики $\\sigma_X$ на $\\sigma_+(x)$, получится формула для t-статистики:\n",
    "\n",
    "$$\n",
    "t = \\frac{\\bar x - EX}{\\sigma_+(x)} \\sqrt{n},\n",
    "$$\n",
    "\n",
    "Распределение $t$-статистики не является нормальным (по крайней мере, при не слишком больших $n$), но также является известным.\n",
    "\n",
    "Вычислите $t$-статистику для задачи 2 по указанной выше формуле. (В качестве $EX$ необходимо подставить значение в 67%, оно берётся из нулевой гипотезы.) Убедитесь, что оно совпадает со значением, которое выдаёт функция `ttest_1samp`."
   ]
  },
  {
   "cell_type": "code",
   "execution_count": 10,
   "metadata": {},
   "outputs": [
    {
     "name": "stdout",
     "output_type": "stream",
     "text": [
      "t* =  0.9512195121951231\n",
      "p-value is summ of F(t < -t*) and F(t > t*)\n",
      "F(t < -t*) = 0.18316870019413717 \n",
      "F(t > t*)= 0.1831687001941371\n",
      "p-value = 0.3663374003882742\n"
     ]
    },
    {
     "data": {
      "image/png": "[encoded data removed]",
      "text/plain": [
       "<matplotlib.figure.Figure at 0x7f33590fd9e8>"
      ]
     },
     "metadata": {},
     "output_type": "display_data"
    }
   ],
   "source": [
    "#ПРОВЕКА 2 задачи\n",
    "from scipy.stats import t\n",
    "n = len(sample_EQZD)\n",
    "t_value = (np.mean(sample_EQZD) - mean_QZD)/(np.std(sample_EQZD, ddof=1)/np.sqrt(n))\n",
    "#изобразим распределение Стьюдента\n",
    "x_1 = np.linspace(-5,-t_value, 100)\n",
    "x_2 = np.linspace(t_value, 5,  100)\n",
    "x = np.linspace(-5, 5,  100)\n",
    "plt.grid(linestyle='--', color='grey')\n",
    "plt.fill_between(x_1,0, t.pdf(x_1, df=(n-1)), alpha=0.3, color='blue')\n",
    "plt.fill_between(x_2,0, t.pdf(x_2, df=(n-1)), alpha=0.3, color='blue')\n",
    "plt.fill(x, t.pdf(x, df=(n-1)), alpha=0.2)\n",
    "print('t* = ', t_value)\n",
    "print('p-value is summ of F(t < -t*) and F(t > t*)')\n",
    "print('F(t < -t*) =', t.cdf(-t_value, df=(n-1)), '\\nF(t > t*)=', 1 -t.cdf(t_value, df=(n-1)))\n",
    "print('p-value =', t.cdf(-t_value, df=(n-1)) + 1 -t.cdf(t_value, df=(n-1)))"
   ]
  },
  {
   "cell_type": "code",
   "execution_count": null,
   "metadata": {
    "collapsed": true
   },
   "outputs": [],
   "source": []
  }
 ],
 "metadata": {
  "kernelspec": {
   "display_name": "Python 3",
   "language": "python",
   "name": "python3"
  },
  "language_info": {
   "codemirror_mode": {
    "name": "ipython",
    "version": 3
   },
   "file_extension": ".py",
   "mimetype": "text/x-python",
   "name": "python",
   "nbconvert_exporter": "python",
   "pygments_lexer": "ipython3",
   "version": "3.6.3"
  }
 },
 "nbformat": 4,
 "nbformat_minor": 2
}
