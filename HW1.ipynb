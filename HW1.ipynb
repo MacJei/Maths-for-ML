{
 "cells": [
  {
   "cell_type": "markdown",
   "metadata": {},
   "source": [
    "# Математика для машинного обучения\n",
    "## Домашнее задание №1\n",
    "\n",
    "«Практический анализ данных и машинное обучение» \n",
    "\n",
    "НИУ ВШЭ, Факультет компьютерных наук"
   ]
  },
  {
   "cell_type": "markdown",
   "metadata": {},
   "source": [
    "Задание выполнилa: *Хужина Вария Тимуровна*"
   ]
  },
  {
   "cell_type": "markdown",
   "metadata": {},
   "source": [
    "### Задача 1"
   ]
  },
  {
   "cell_type": "markdown",
   "metadata": {},
   "source": [
    "*Случайный эксперимент* - правильную монетку подбросили 3 раза. "
   ]
  },
  {
   "cell_type": "markdown",
   "metadata": {},
   "source": [
    "Множество *элементарных исходов* эксперимента: $\\Omega = \\{(орел, решка, решка),(орел, решка, орел), (орел, орел, решка), (решка, решка, орел), (решка, орел, решка), (решка, орел, орел), (орел, орел, орел), (решка, решка, решка)\\}$"
   ]
  },
  {
   "cell_type": "markdown",
   "metadata": {},
   "source": [
    "Событие $A = \\text{«за три броска выпало ровно два орла»}$, \n",
    "множество исходов события: $A = \\{(решка, орел, орел), (орел, решка, орел), (орел, орел, решка)\\}$\n",
    "\n",
    "   Событие $B = \\text{«за три броска выпало ровно две решки»}$, \n",
    "множество исходов события: $B = \\{(решка, решка, орел),(орел, решка, решка),(решка, орел, решка)\\}$"
   ]
  },
  {
   "cell_type": "markdown",
   "metadata": {},
   "source": [
    "+ События $A$ и $B$ являются *несовместными*, так как пересечение множеств их исходов пустое $A \\cap B = \\emptyset$ , т.е. никакое из событий не может наступить одновременно.\n",
    "\n",
    "+ События $A$ и $B$ не образуют полную группу событий $\\Omega \\neq A \\cup B$"
   ]
  },
  {
   "cell_type": "markdown",
   "metadata": {},
   "source": [
    "### Задача 2"
   ]
  },
  {
   "cell_type": "markdown",
   "metadata": {},
   "source": [
    "*Случайный эксперимент* - игральную кость подбросили два раза.\n",
    "\n",
    "Множество *элементарных исходов* эксперимента: $\\Omega = \\{(1,1), (1,2),...,(6,6)\\}$, мощность множества $\\vert\\Omega\\vert = 6\\cdot 6 = 36$.    \n",
    "\n",
    "|   | 1     | 2     | 3     | 4     | 5     | 6     |\n",
    "|---|-------|-------|-------|-------|-------|-------|\n",
    "| 1 | (1,1) | (1,2) | (1,3) | (1,4) | (1,5) | (1,6) |\n",
    "| 2 | (2,1) | (2,2) | (2,3) | (2,4) | (2,5) | (2,6) |\n",
    "| 3 | (3,1) | (3,2) | (3,3) | (3,4) | (3,5) | (3,6) |\n",
    "| 4 | (4,1) | (4,2) | (4,3) | (4,4) | (4,5) | (4,6) |\n",
    "| 5 | (5,1) | (5,2) | (5,3) | (5,4) | (5,5) | (5,6) |\n",
    "| 6 | (6,1) | (6,2) | (6,3) | (6,4) | (6,5) | (6,6) |\n",
    "<center>Табл. 1 \"Предствление элементов множества $\\Omega$\"</center>\n",
    "\n",
    "\n",
    "События:    \n",
    "$C = \\text{«в первый раз выпало 2 очка»}$, множество исходов события\n",
    "$C = \\{ (2,1), (2,2), (2,3), (2,4), (2,5), (2,6)\\}$, $\\vert C\\vert = 6$\n",
    "\n",
    "$D = \\text{«разность между числом очков, выпавшим при втором броске, и числом очков, выпавшим при первом броске неотрицательна»}$, разность будет неотрицательна тогда, когда во втором броске выпало столько же или больше очков, чем при первом, эти исходы соответсвуют верхнему \"треугольнику\" таблицы 1:    \n",
    "$D = \\{ (1,1), (1,2), (1,3), (1,4), (1,5), (1,6), \n",
    "(2,2), (2,3), (2,4), (2,5), (2,6),\n",
    "(3,3), (3,4), (3,5), (3,6),\n",
    "(4,4), (4,5), (4,6),\n",
    "(5,5), (5,6), (6,6)\\}$,\n",
    "$\\vert D\\vert = 15 + 6 = 21$\n",
    "\n",
    "*Пересечение* событий $C$ и $D$:    \n",
    "$C \\cap D = \\{ (2,2), (2,3), (2,4), (2,5), (2,6)\\}$, $\\vert C \\cap D\\vert = 5$\n",
    "\n",
    "*Объединение событий* $C$ и $D$:\n",
    "$C \\cup D = \\{ (1,1), (1,2), (1,3), (1,4), (1,5), (1,6), \\textbf{(2,1)},\n",
    "(2,2), (2,3), (2,4), (2,5), (2,6),\n",
    "(3,3), (3,4), (3,5), (3,6),\n",
    "(4,4), (4,5), (4,6),\n",
    "(5,5), (5,6), (6,6)\\}$, $\\vert C \\cup D\\vert = 22$\n",
    "\n",
    "*Вероятности*      \n",
    "$P(C) = \\frac{\\vert C\\vert} {\\vert\\Omega\\vert} = \\frac{6} {36} = \\frac{1} {6}$    \n",
    "$P(D) = \\frac{\\vert D\\vert} {\\vert\\Omega\\vert} = \\frac{21} {36} = \\frac{7} {12}$    \n",
    "$P(C \\cap D) = \\frac{5} {36}$    \n",
    "$P(C \\cup D) = \\frac{22} {36} = \\frac{11} {18}$    \n",
    "\n",
    "*Условная вероятность*    \n",
    "$P(C|D) = \\frac{P(C \\cap D)}{P(D)} = \\frac{5/36} {7/12} = \\frac{5} {21}$\n",
    "\n",
    "*Независимость событий*   \n",
    "$P(C \\cap D) \\neq P(C) \\cdot P(D)$ т.е. события $C$ и $D$ *не независымые*. "
   ]
  },
  {
   "cell_type": "markdown",
   "metadata": {},
   "source": [
    "### Задача 3"
   ]
  },
  {
   "cell_type": "markdown",
   "metadata": {},
   "source": [
    "Введем следующие *гипотезы*:    \n",
    "$H_1$ - «отзыв действительно является положительным»,    \n",
    "$H_2$ - «отзыв действительно является отрицательным».\n",
    "\n",
    "Введем следующие *события*:    \n",
    "$A$ - «отзыв помечен классификатором как положительный»    \n",
    "$B$ - «отзыв помечен классификатором как отрицательный».\n",
    "\n",
    "Что необходимо *найти*:   \n",
    "$precision = P(H_1|A)$ - доля действительно положительных отзывов, среди помеченных классификатором как положительные.  \n",
    " \n",
    "По теореме Байеса:    \n",
    "$P(H_1|A) = \\frac{P(A|H_1) \\cdot P(H_1)}{P(A|H_1) \\cdot P(H_1) + P(A|H_2) \\cdot P(H_2)}$\n",
    "\n",
    "Из условия задачи известно:    \n",
    "$recall = P(A|H_1) = 0.7$    \n",
    "$P(A|H_2) = 0.2$\n",
    "\n",
    "Значит для определения $P(H_1|A)$ необходимо найти вероятности гипотез:   \n",
    "$P(H_1) = \\frac{520}{1000} = 0.52$    \n",
    "$P(H_2) = \\frac{480}{1000} = 0.48$    \n",
    "\n",
    "Подставим полученные значения в формулy Байеса:    \n",
    "$P(H_1|A) = \\frac{P(A|H_1) \\cdot P(H_1)}{P(A|H_1) \\cdot P(H_1) + P(A|H_2) \\cdot P(H_2)} = \\frac{0.7 \\cdot 0.52}{0.7 \\cdot 0.52 + 0.2 \\cdot 0.48}$"
   ]
  },
  {
   "cell_type": "code",
   "execution_count": 7,
   "metadata": {},
   "outputs": [
    {
     "name": "stdout",
     "output_type": "stream",
     "text": [
      "precision =  0.791\n"
     ]
    }
   ],
   "source": [
    "precision = (0.7*0.52)/(0.7*0.52 + 0.2*0.48)\n",
    "print (\"precision = \", round(precision, 3))"
   ]
  },
  {
   "cell_type": "markdown",
   "metadata": {},
   "source": [
    "### Задача 4\n",
    "\n",
    "Случайная величина $Y$ принимает три значения: $-5$, $2$, $4$. Известно, что значение $2$ случайная величина принимает с вероятностью 0.4, а остальные значения она принимает с равными вероятностями. Найдите математическое ожидание $E(Y)$ и дисперсию $D(Y)$."
   ]
  },
  {
   "cell_type": "markdown",
   "metadata": {},
   "source": [
    "Дано:    \n",
    "\n",
    "| Y | -5  | 2   | 4   |\n",
    "|---|-----|-----|-----|\n",
    "| P | 0.3 | 0.4 | 0.3 |    \n",
    "Найдем математическое ожидание по формуле:   \n",
    "$E(Y) = \\sum_{i = 1}^3 Y_i \\cdot P_i$\n"
   ]
  },
  {
   "cell_type": "code",
   "execution_count": 25,
   "metadata": {},
   "outputs": [
    {
     "name": "stdout",
     "output_type": "stream",
     "text": [
      "Expected value is 0.5\n"
     ]
    }
   ],
   "source": [
    "import numpy as np\n",
    "Y = np.array([-5, 2, 4])      #значения случайной величины\n",
    "P = np.array([0.3, 0.4, 0.3]) #соответсвующая вероятность\n",
    "\n",
    "expected_value = sum(Y*P)     #мат. ожидание\n",
    "print (\"Expected value is\", expected_value)"
   ]
  },
  {
   "cell_type": "markdown",
   "metadata": {},
   "source": [
    "Определим дисперсию по определению   \n",
    "$D(Y) = E((Y - E(Y))^2)$"
   ]
  },
  {
   "cell_type": "code",
   "execution_count": 16,
   "metadata": {},
   "outputs": [
    {
     "name": "stdout",
     "output_type": "stream",
     "text": [
      "Dispersion is 13.65\n"
     ]
    }
   ],
   "source": [
    "tmp = (Y - expected_value)**2 #промежуточное вычисление\n",
    "dispersion = sum(tmp*P)\n",
    "print (\"Dispersion is\", dispersion) #дисперсия"
   ]
  },
  {
   "cell_type": "markdown",
   "metadata": {},
   "source": [
    "### Задача 5"
   ]
  },
  {
   "cell_type": "code",
   "execution_count": 24,
   "metadata": {},
   "outputs": [
    {
     "name": "stdout",
     "output_type": "stream",
     "text": [
      " Random value U = X + 3Y: \n",
      " Expected_value for U = 2 \n",
      " Dispersion for U = 13\n",
      "\n",
      " Random value Q = 2X - Y + 5: \n",
      " Expected_value for Q = 9 \n",
      " Dispersion for Q = 17\n"
     ]
    }
   ],
   "source": [
    "#U = X + 3Y\n",
    "#Q = 2X - Y + 5\n",
    "#исходные данные задачи:\n",
    "E_X, D_X  = 2, 4\n",
    "E_Y, D_Y  = 0, 1\n",
    "\n",
    "#решение:\n",
    "E_U = E_X + 3*E_Y\n",
    "D_U = D_X + 9*D_Y\n",
    "\n",
    "E_Q = 2*E_X - E_Y + 5\n",
    "D_Q = 4*D_X + D_Y\n",
    "\n",
    "print (\" Random value U = X + 3Y: \\n Expected_value for U = {} \\n Dispersion for U = {}\".format (E_U, D_U))\n",
    "print()\n",
    "print(\" Random value Q = 2X - Y + 5: \\n Expected_value for Q = {} \\n Dispersion for Q = {}\".format (E_Q, D_Q))"
   ]
  },
  {
   "cell_type": "markdown",
   "metadata": {},
   "source": [
    "### Задача 6\n",
    "\n",
    "График плотности распределения непрерывной случайной величины $X$ выглядит следующим образом:"
   ]
  },
  {
   "cell_type": "code",
   "execution_count": 14,
   "metadata": {},
   "outputs": [
    {
     "data": {
      "text/plain": [
       "[<matplotlib.lines.Line2D at 0x7efd34e03cf8>]"
      ]
     },
     "execution_count": 14,
     "metadata": {},
     "output_type": "execute_result"
    },
    {
     "data": {
      "image/png": "[encoded data removed]",
      "text/plain": [
       "<matplotlib.figure.Figure at 0x7efd34e036d8>"
      ]
     },
     "metadata": {},
     "output_type": "display_data"
    }
   ],
   "source": [
    "import matplotlib.pyplot as plt\n",
    "%matplotlib inline\n",
    "\n",
    "plt.xlim(-1, 4)\n",
    "plt.ylim(0, 0.6)\n",
    "plt.grid()\n",
    "plt.plot(*zip([-1, 0], [0, 0], [1, 0.5], [2, 0.5], [3, 0], [4, 0]), lw = 1.5)\n"
   ]
  },
  {
   "cell_type": "markdown",
   "metadata": {},
   "source": [
    "1. Найдите вероятность $P(X=1)$.\n",
    "2. Найдите вероятность $P(0\\leq X \\leq 2)$.\n",
    "3. Найдите вероятность $P(0\\leq X \\leq 3)$."
   ]
  },
  {
   "cell_type": "markdown",
   "metadata": {},
   "source": [
    "Так как с.в. - непрерывная, то    \n",
    "$P(X = 1) = 0$    \n",
    "$P(0\\leq X \\leq 2) = 0.25 + 0.5 = 0.75$.    \n",
    "$P(0\\leq X \\leq 3) = 1$. "
   ]
  },
  {
   "cell_type": "code",
   "execution_count": null,
   "metadata": {
    "collapsed": true
   },
   "outputs": [],
   "source": []
  }
 ],
 "metadata": {
  "kernelspec": {
   "display_name": "Python 3",
   "language": "python",
   "name": "python3"
  },
  "language_info": {
   "codemirror_mode": {
    "name": "ipython",
    "version": 3
   },
   "file_extension": ".py",
   "mimetype": "text/x-python",
   "name": "python",
   "nbconvert_exporter": "python",
   "pygments_lexer": "ipython3",
   "version": "3.6.3"
  }
 },
 "nbformat": 4,
 "nbformat_minor": 2
}
